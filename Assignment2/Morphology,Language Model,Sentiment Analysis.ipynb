{
 "cells": [
  {
   "cell_type": "markdown",
   "id": "4263851d-4373-4695-8ac5-f5e36bb7fa60",
   "metadata": {},
   "source": [
    "## Part 1 (Morphology) - Obtain words in present tense and in past tense"
   ]
  },
  {
   "cell_type": "code",
   "execution_count": null,
   "id": "d3f11b3c-ed84-4569-8d8e-828849ee32e6",
   "metadata": {},
   "outputs": [
    {
     "name": "stdout",
     "output_type": "stream",
     "text": [
      "Words in present tense:\n",
      "{'Brave', 'comforts', 'myself', 'informs', 'heareth', 'wastes', 'wounds', 'drain', 'hares', 'overlook', 'judge', 'heedful', 'triumph', 'disregard', 'patrician', 'ante-chamber', 'persuades', 'sounds', 'hangers-on', 'aggravates', 'disentangle', 'breakfast', 'Want', 'cried', 'lent', 'listens', 'care', 'aboard', 'Widows', 'edge', 'warier', 'bore', 'confound', 'Withers', 'repel', 'row', 'chastise', 'clothes', 'worthy', 'meet', 'circulates', 'presume', 'form', 'ask', 'strangle', 'fears', 'nigher', 'encompasses', 'yard', 'ejaculated.', 'haunt', 'knots', 'mine', 'pilgrimages', 'deserves', 'splendour', 'intend', 'snib', 'oppresses', 'confuse', 'agonistes', 'includes', 'Hope', 'Wishes', 'shot', 'cover', 'complains', 'registers', 'Catharines', 'spelt', 'slew', 'shrieks', 'situate', 'natures', 'tips', 'names', 'tell', 'responsibilities', 'dear', 'treasures', 'argue', 'cares', 'dries', 'glad', 'lead', 'races', 'wherewith', 'announces', 'overtake', 'paused.', 'drops', 'worser', 'cruel', \"o'clock\", 'obey', 'dotes', 'mayst', 'asleep', 'therewith', 'fear', 'dislike', 'clung', 'fearless', 'glasses', 'playmates', 'anon', 'damsel', 'remains', 'lodge', 'bathe', 'soften', 'faithful', 'humour', 'easy', 'tosses', 'evil', 'interrupted.', 'stolen', 'veins', 'involuntarily.', 'shops', 'therefore', 'sells', 'recollect', 'tolls', 'promise', 'imperil', 'stayed', 'observed.', 'qualities', \"rek'lect\", 'warn', 'Always', 'annoy', 'hides', 'engages', 'am.', 'disapprove', 'hearken', 'cavil', 'foresaw', 'sparks', 'bias', 'wotteth', 'guards', 'forbore', 'lad', 'unwont', 'handy', 'startles', 'stroll', 'boughs', 'dote', 'exclaims', 'dunno', 'creep', 'sang', 'touches', 'fades', 'minces', 'deprive', 'abandons', 'conducts', 'past', 'streets', 'sweethearts', 'discloses', 'guess', 'waits', 'betrayed', 'fill', 'recognises', 'sweep', 'wagtails', 'branches', 'ladies', 'sighs', 'murmurs', 'assented.', 'dimittas.', 'brush', 'ebbs', 'enters', 'start', 'misdoer', 'fire', 'mistresses', 'prevaricator', 'oft', 'begins', 'quake', 'exhibit', 'rabbits', 'befalls', 'trudge', 'joy', 'revert', 'bows', 'deal', 'chop', 'hopes', 'cause', 'recurs', 'towld', 'impart', 'slue', 'reweals', 'loathe', 'remarked.', 'excels', 'forbidden', 'dream', 'belong', 'cross', 'adores', 'have', 'betid', 'lazy', 'hereof', 'Sets', 'roses', 'oftentimes', 'computes', 'Do', 'skill', 'hunger', 'wholesome', 'drag', 'insist', 'coaches', 'trow', 'whisper', 'caressingly', 'sheer', 'don', 'praise', 'whets', 'gentleman', 'leaves', 'scuds', 'patient', 'hiss', 'impresses', 'adjourn', 'like.', 'known', 'reproach', 'anear', 'cynical', 'off.', 'kisses', 'whereto', 'bring', 'solicit', 'accident', 'publishes', 'spike', 'sake', 'frozen', 'rue', 'fancies', 'blind', 'partook', 'introduce', 'rash', 'uncertain', 'looks', 'disgust', 'fires', 'detest', 'ails', '’', 'annoys', 'deficient', 'nowadays', 'resolve', 'develops', 'inflames', 'swallows', 'reappear', 'callest', 'Isles', 'Lend', 'look', 'forth', 'infuriates', 'uses', 'implore', 'stops', 'apprehend', 'devote', 'traitor', 'planks', 'entails', 'thereof', 'remember', 'assails', 'flew', 'whereof', 'passes', 'hangs', 'upholds', 'imp', 'amazes', 'disown', 'revive', 'feareth', 'none', 'engrosses', 'spreads', 'villeins', 'forgat', 'Sounds', 'faileth', 'overhead', 'waveth', 'grudges', 'camest', 'conclave', 'arranges', 'again.', 'trickle', 'exaggerate', 'contradick', 'ripen', 'wend', 'behaves', 'scarce', 'deeds', 'patterns', 'eyes', 'pretend', 'hay', 'preach', 'Says', 'therein', 'sign', 'click', 'o', 'worth', 'relieves', 'rob', 'fares', 'gates', 'require', 'represent', 'refuses', 'meddle', 'reacts', 'shoes', 'forsooth', 'knowledge', 'edicts', 'Was', 'passages', 'way.', 'chiefly', 'consults', 'picks', 'astonishes', 'buys', 'absolve', 'Carry', 'runnings', 'tastes', 'bid', 'wreck', 'forms', 'sleepeth', 'renovate', 'salutes', 'misunderstood', 'undergo', 'honor', 'lifts', 'stupifies', 'slink', 'shock', 'rode', 'possess', 'lasses', 'calculate', 'won', 'weigh', 'nay', 'waste', 'throve', 'forests', 'astound', 'oppose', 'exert', 'strengthens', 'ly', 'rifle', 'attacks', 'strewn', 'hates', 'lights', 'forgave', 'pitch', 'destroys', 'decide', 'bury', 'travels', 'reap', 'appear', 'deem', 'safe', 'bewilders', 'forbid', 'agog', 'back', 'afar', 'amidst', 'marvel', 'wakes', 'brilliant', 'incline', 'innumerable', 'grounds', 're', 'milk', 'crawl', 'desires', 'habits', 'pity', 'aware', 'renders', 'stealthily.', 'swam', 'holy', 'lean', 'run', 'boasted', 'understands', 'mistook', 'depends', 'harden', 'valets', 'borne', 'raly', 'inhabited', 'abate', 'cloud', 'suggested.', 'eve', 'beheld', 'amaze', 'snow', 'exclaimed.', 'prompt', 'isn', 'exhibits', 'maintain', 'linger', 'twitch', 'awry', 'incur', 'reft', 'Yours', \"gran'pa\", 'involves', 'Twins', 'shoot', 'behold', 'deserts', 'whyso', 'inundate', 'whatsoever', 'pieces', 'enhances', 'earns', 'retorts', 'barks', 'waves', 'penetrates', 'govern', 'crouches', 'seemeth', 'et', 'alternate', 'heavy', 'slumber', 'indisposes', 'swung', 'honest', 'heretofore', 'expects', 'outstrips', 'stammered.', 'resist', 'Believe', 'meseemeth', 'whither', 'riots', 'departs', 'command', 'disdains', 'refine', 'dress', 'beaten', 'teil', 'beat', 'lie', 'folk', 'indicate', 'bowels', 'attend', 'multitude', 'stagnates', 'liar', 'persecute', 'misses', 'absent', 'enrols', 'decorate', 'smelt', 'go', 'ain', 'somewheres', 'constraineth', 'hints', 'tore', 'befriends', 'scoundrel', 'bit', 'clasp', 'brims', 'cheeks', 'through', 'saith', 'declare', 'damn', 'realised.', 'rejects', 'constitutes', 'weep', 'havena', \"way'ull\", 'thereabouts', 'wonder', 'curtseys', 'Could', 'clings', 'steal', 'jog', 'heavens', 'distresses', 'features', 'Ł70', 'inquire', 'subscribes', 'blinds', 'manage', 'Leave', 'doubts', 'upon', 'get', 'comprehend', 'aspire', 'views', 'examine', 'occur', 'ten', 'intimate', 'i', 'utters', 'permit', 'waneth', 'dry', 'tumble', 'wilt', 'assure', 'seize', 'overspreads', 'strive', 'peril', 'circumvent', 'promisest', 'inquired.', 'expand', 'undermeasure', 'inspired.', 'stretches', 'fond', 'remembers', 'thenceforth', 'pay', 'relieve', 'blesses', 'stopped.', 'Heap', 'skirts', 'pink', 'alike', 'see', 'doctor', 'shadowy', 'endeavours', 'mind', 'square', 'redound', 'du', 'enslaves', 'sands', 'hope', 'amongst', 'advises', 'Soon', 'thousand', 'Gills', 'ayn', 'rogue', 'sh', 'tingle', 'athwart', 'prayed', 'causes', 'silk', 'apartments', 'speculate', 'steps', 'shrill', 'smokes', 'elbows', 'slain', 'cuts', 'donnot', 'mention', 'fascinates', 'adds', 'dash', 'hooks', 'allow', 'saves', 'produces', 'hugs', 'tears', 'nurse', 'use', 'wrists', 'watches', 'wearisome', 'sensitive', 'follow', 'adolescens', 'bites', 'attaches', 'observes', 'sent', 'were.', 'lightens', 'hidden', 'mayest', 'accounts', 'roll', 'papa', 'arrange', 'maidens', 'catches', 'agen', 'composes', 'spoilt', 'shivers', 'thralls', 'shrink', 'cleans', 'comprehends', 'fulfil', 'hadst', 'turnin', 'darts', 'aches', 'Miss', 'misgave', 'speir', 'withheld', 'concerns', 'oven', 'vote', 'scandalises', 'colour', 'slunk', 'kill', 'associates', 'brake', 'yearns', 'somewhat', 'toil', 'bells', 'amiss', 'somehow', 'remind', 'low', 'neglects', 'downstairs', 'genteel', 'mark', 'frightens', 'steals', 'land', 'owns', 'detach', 'recommend', 'pose', 'sprang', 'underneath', 'disappoints', 'depart', 'methinks', 'curse', 'clear', 'talks', 'yet', 'seek', 'suit', 'cherishes', 'pauses', 'beside', 'rise', 'bewail', 'witnesses', 'scorn', 'distant', 'seethes', 'reproduces', 'endure', 'rang', 'spoke', 'glitters', 'encounter', 'spins', 'wears', 'fare', 'accompanies', 'lose', 'sails', 'comes', 'gentlemen', 'entreat', 'clinches', 'collect', 'worn', 'produce', 'pecks', 'pins', 'taketh', 'leathern', 'Three', 'desert', 'put', 'swell', 'gotten', 'adheres', 'exercises', 'agent', 'riseth', 'pleaseth', 'felt.', 'c', 'repeated.', 'que', 'remonstrate', 'outrage', 'supports', 'awaits', 'lament', 'Suppose', 'sixteen', 'drive', 'Has', 'waxed', 'maketh', 'base', 'beforehand', 'lowers', 'shadows', 'grow', 'SHALL', 'mischievous', 'spat', 'locks', 'fall', 'sickens', 'befell', 'escape', 'Cawsts', 'commands', 'admits', 'reviews', 'quietly.', 'horns', 'mistakes', 'sat', 'dispirits', 'nod', 'trembled.', 'impress', 'yell', 'Dealings', 'prevails', 'adopt', 'suggest', 'denounces', 'twitches', 'wasn', 'disgrace', 'havn', 'educate', 'smells', 'adore', 'injure', 'roof', 'strongly.', 'decline', 'depend', 'hiboux', 'teaches', 'laugh', 'entreaties', 'thank', 'wise', '-no', 'singeth', 'Indoors', 'commend', 'wet', 'trace', 'conveys', 'THE', 'stings', 'differ', '*', 'repeat', 'hurts', 'awaketh', 'keep', 'partridges', 'absolute', 'foolishly', 'descend', 'warnin', 'conclude', 'resolves', 'farther', 'denotes', 'listen', 'devour', 'aggravating', 'flatters', 'larsts', 'wherefore', 'ascends', 'momentary', 'chops', 'climb', 'er', 'compliant', 'hither', 'earn', 'horses', 'dine', 'advertise', 'eat', 'repose', 'diffuse', 'relate', 'hit', 'straightway', 'harp', 'naughty', 'holidays', 'long', 'swear', 'ta', 'lack', 'expresses', 'vexed', 'acknowledge', 'dwell', 'nigh', 'rallies', 'trees', 'whispers', 'stones', 'sufficient', 'disappear', '_must_', 'Ł50', 'opposite', 'words.', 'figure', 'soil', 'amasses', 'comrade', 'prevents', 'gazed', 'mug', 'discovers', 'revives', 'escapes', 'pat', 'twilight', 'suggests', 'ideot', 'matters', 'resolute', 'henceforward', 'em', 'pillows', 'dread', 'brown', 'dare', 'deliver', 'wills', 'does', \"'s\", 'personale', 'spoils', 'sunk', 'stiff', 'authorise', 'quicken', \"'m\", 'strengthen', 'dainty', 'appoint', 'enough', 'mountains', 'destroy', 'ordains', 'arrest', 'inarticulate', 'looketh', 'fills', 'nuts', 'held', 'walking', 'compare', 'astounds', 'materializes', 'forthwith', 'breathe', 'eyelashes', 'arf', 'thrown', 'Send', 'needest', 'reach', 'pays', 'seemed-three', 'moralists', 'rumbleth', 'perceives', 'sympathize', 'spears', 'subjects', 'replies', \"d'armes\", 'bends', 'propose', 'humiliates', 'furnish', 'offers', 'unfortunate', 'pitys', 'distorts', 'condemn', 'sympathises', 'say', 'works', 'vanquisheth', 'herein', 'windows', 't', 'jingle', 'knew', 'aisles', 'practise', 'goes', 'peeps', 'tightens', 'pursue', 'administers', 'handsome', 'wert', 'laughs', 'bound', 'origin', 'write', 'delivers', 'withdraw', 'threaten', 'keeps', 'Wait', 'attach', 'subject', 'stopped', 'obstacles', 'felt', 'liveth', 'e', 'well', 'throng', 'gazes', 'calls', 'foresee', 'stolid', 'changes', 'wherein', 'reckon', 'instant', 'become', 'labour', 'narrows', 'hasten', 'loveth', 'visits', 'recur', 'substitute', 'silences', 'existed', 'leads', 'dealt', \"could't\", 'resists', 'study', 'asked.', 'found', 'mein', 'neither', 'times', 'summonses', 'reside', 'threw', 'underwent', 'dingy', 'signifies', 'betrayal', 'Afore', 'alyssum', 'claps', 'looms', 'grumble', 'roar', 'tempt', \"hav'n't\", 'place', 'Are', 'Wants', 'rides', 'consoles', 'guides', 'rush', 'rankle', 'standeth', 'high', 'asks', 'smiles', 'fame', 'strikes', 'sparkle', 'force', 'aim', 'Sometimes', 'drank', 'frets', 'learns', 'hid', 'lustres', 'gossips', 'releases', 'come', 'hatch', 'cam', 'nearer', 'despair', 'therewithal', 'overheard', 'embrace', 'divide', 'shut', 'forsake', 'wonna', 'thrive', 'luxuries', 'denounce', 'adjure', 'rins', 'brightens', 'darling', 'communicate', 'schuhplätteln', 'thinks', 'reminds', 'spoil', 'girl', 'prick', 'furnishes', 'free', 'des', 'prefers', 'rung', 'occupies', 'relates', 'contrives', 'boasts', 'anticipate', 'excludes', 'walk', 'means', 'abandon', 'chosen', 'admires', 'messages', 'stuck', 'over-young', 'Tell', 'pursues', 'tend', 'fights', 'sound', 'belike', 'belong.', 'bears', 'earnestness', 'divers', 'wealth', 'caught', 'spare', 'brings', 'wrong', \"'re\", 'brig', 'kills', 'Sundays', 'rests', 'read', 'lays', 'cried.', 'resides', 'obscure', 'Burn', 'hai', 'drink', 'wasna', 'soothes', 'imitate', 'declares', 'shalt', 'bars', 'leapt', 'whoso', 'sweet', 'lo', 'bless', 'hears', 'play', 'dearer', 'Go', 'increases', 'strove', 'separates', 'meadows', 'lies', 'facts', 'occupied', 'buy', 'admonish', 'lives', 'afford', 'resent', 'chooses', 'fate', 'liefer', 'subdues', 'Alexander', 'besides', 'seest', 'observe', 'takes', 'trips', 'erect', 'plucks', 'coils', 'scrubs', 'ruins', 'inhabit', 'giveth', 'records', 'crowd', 'open', 'maintains', 'dies', 'expands', 'object', 'quite', 'sentiment', 'stark', 'withers', 'fellow', 'struggles', 'strings', 'invigorates', 'neighbours', 'take', 'representative', 'dines', 'hesitate', 'opposes', 'enforces', 'limp', 'Confirms', 'sayeth', 'sprats', 'simple', 'sleep', 'deny', 'mixed', 'pulls', 'confide', 'ducks', 'serve', 'cost', 'disbelieve', 'oak', 'prays', 'pensée', 'wad', 'enumerate', 'Knows', 'presses', 'Angel', 'falters', 'trusts', 'distil', 'compel', 'awful', 'makes', 'extant', 'prophecy', 'air', 'uppermost', 'eine', 'forgives', 'haunts', 'prepares', 'heralds', 'gossip', 'greets', 'sing', 'argues', 'expends', 'well-established', 'ye', 'envelopes', 'involved', 'telleth', 'Would', 'pensively.', 'pain', 'compliment', 'rounds', 'stiffly', 'gear', 'shook', 'assail', 'endangers', 'abuses', 'knife', 'thou', 'blossom', 'undertook', 'enjoins', 'toujours', 'serves', 'disagree', 'loiters', 'Tonks', 'shrinks', 'fleurs', 'overhung', 'evermore', 'offend', 'wolves', 'drives', 'cows', 'cave', 'accomplishes', 'jest', 'regards', 'Julians', 'older', 'whiles', 'balance', 'intent', 'slave', 'quiets', 'issue', 'thine', 'need', 'brandy', 'mammy', 'hobgoblins', 'survive', 'shan', 'raves', 'spit', 'premeditate', 'libraries', 'stands', 'dismisses', 'neighbour', 'adwentures', 'chose', 'show', 'close', 'attendant', 'conceive', 'choked.', 'blushes', 'ken', 'wreath', 'seduces', 'canst', 'stinks', 'mustn', 'boast', 'change', 'endears', 'odd', 'fellows', 'bate', 'deduce', 'induces', '~', 'troops', 'recognizes', 'angils', 'illiterate', 'dips', 'erst', 'err', 'pleases', 'drunken', 'perceive', 'dead', 'desire', 'assures', '_cos', 'befel', 'enjoys', 'prosecute', 'pour', 'travel', 'left', 'gownds', 'unbends', 'condole', 'confirms', 'hearest', 'pearl', 'got', 'advise', 'aloof', 'result', 'rejoice', 'saw', 'leers', 'rank', 'contrasts', 'fits', 'wink', 'happen', 'foretell', 'note', 'inhabits', 'relent', 'understand', 'abuse', 'bringeth', 'love', 'hardy', 'disproves', 'pounces', 'stirs', 'scorns', 'stuffed', 'lurid', 'employ', 'seconds', 'drew', 'bores', 'fils', 'runs', 'reared', 'Gives', 'indicates', 'Bombastes', 'wheezes', 'starts', 'chamber', 'Ithink', 'meaneth', 'buds', 'doubt', 'conspicuous', 'untrue', 'wild', 'roofed', 'denies', 'shackle', 'perplex', 'catch', 'envy', 'spake', 'decks', 'wits', 'confides', 'quarrel', 'advances', 'spread', 'whereby', 'sorrows', 'hits', 'seem', 'squares', 'fix', 'beauty', 'shaken', 'wants', 'call', 'challenges', 'adorn', 'purifies', 'passeth', 'ha', 'create', 'choose', 'all', 'unclad', 'upstairs', 'alter', 'carry', 'return', 'reply', 'thy', 'snuffy', 'thither', 'tremble', 'shiver', 'tow', 'reject', 'charge', 'aynt', 'considerate', 'scrape', 'converse', 'slows', 'begets', 'mayhap', 'attends', 'anyways', 'foregather', 'scathes', 'covers', 'underlay', 'knowin', 'salad', 'wind', 'thankless', 'claims', 'drinks', 'strives', 'envelope', 'barren', 'scenes', 'little', 'assembles', 'act', 'parishes', 'sables', 'alone', 'risk', 'wouldst', 'Does', 'face', 'absurd', 'peers', 'shakes', 'crave', 'alarms', 'propagate', 'sparrows', 'occasions', 'elaborate', 'owe', 'busy', 'opens', 'burn', 'strokes', 'interrogate', 'joins', 'thirty', 'physicians', 'stamps', 'lords', 'gird', 'out-manoeuvres', 'lessons', 'whenso', 'expect', 'shines', 'relieved.', 'breed', 'spends', 'wurno', 'Have', 'tumbles', 'recognise', 'needit', 'flung', 'shudder', 'starve', 'coins', 'twelve', 'feeds', 'sausages', 'rows', 'helps', 'allays', 'intrude', 'Again', 'refer', 'smote', 'becomes', 'displays', 'preacher', 'rubs', 'remain', 'enjoy', 'as', 'arrests', 'says', 'await', 'discuss', 'Did', 'sick', 'elastic', 'watch', 'treats', 'misdoubteth', 'corresponds', 'undermines', 'betrays', 'emerges', 'favour', 'developes', 're-echoed', 'slinks', 'coward.', 'precedes', 'Follow', \"'d\", 'betake', 'inquiringly.', 'dance', 'replied.', 'slip', 'boy', 'extends', 'drawn', 'admire', 'stretch', 'chalk', 'appeal', 'befitteth', 'art', 'honour', 'protects', 'strayed', 'sate', 'burnt', 'obtains', 'destiny', 'cousins', 'compromise', 'unstrings', 'flows', 'Tells', 'receives', 'admit', 'froze', 'entreats', 'withal', 'talk', 'yeasaid', 'bread', 'scale', 'beneath', 'dunnot', 'stockings', 'accepts', 'gets', 'errand', 'keepit', 'contradicts', 'blasts', 'want', 'bell', 'aught', 'satisfy', 'follows', 'driveth', 'stays', 'precede', 'undemonstrative', 'stir', 'clock', 'has', 'Lives', \"'\", 'Tis', 'interpolates', 'profess', 'womanhood', 'hails', 'ill', 'wear', 'faith', 'beareth', 'secure', 'dismay', 'sans', 'henceforth', 'shows', 'knowest', 'weary', 'fingers', 'likewise', 'fancy', 'strain', 'ride', 'question', 'vouchsafe', 'dig', 'goeth', 'tends', 'curl', 'accept', 'cook', 'betimes', 'interposes', 'lit', 'beauties', 'takest', 'sometimes', 'atop', 'quits', 'Comes', 'deemeth', 'answer', 'appreciate', '‘', 'count', 'sunset', 'speculative', 'gnaws', 'forgotten', 'overhaul', 'apologize', 'suffers', 'towards', 'artists', 'characterises', 'dimittas', 'pupil', 'report', 'walls', 'loud', 'latter', 'asunder', 'congregate', 'incumber', 'blame', 'doubtless', 'commensurate', 'insists', 'settles', 'respect', 'strands', 'suave', 'Diogenes', 'doon', 'rays', 'annihilate', 'akimbo', 'invites', 'sees', 'drawest', 'willingly', 'obstruct', 'forgets', 'sends', 'villain', 'perish', 'lingers', 'lubricates', 'least', 'cast', 'caterpillars', 'needeth', 'lanthorns', 'forfeit', 'joys', 'knocks', 'centres', 'traces', 'requests', 'ay', 'rings', 'lasts', 'lips', 'entered.', 'hesitates', 'shame', 'wishes', 'stickle', 'deaf', 'refuse', 'begs', 'costs', 'wolfed', 'supersedes', 'bade', 'heroic', 'libel', 'hint', 'tricks', 'swim', 'rivets', 'set', 'doesn', 'know', 'twain', 'consecrates', 'schönes', 'sail', 'wins', 'brave', 'Rest', 'grown', 'fit', 'giggle', 'divines', 'lieth', 'could.', 'broken', 'recollects', 'acknowledges', 'wields', 'dissolves', 'affect', 'gives', 'leaks', 'allude', 'reward', 'disfigure', 'fool', 'like', 'feed', 'fortune', 'stoop', 'swims', 'crosses', 'accuse', 'pure', \"ma'am\", 'awaiteth', 'grieve', 'thocht', 'bother', 'rims', 'brethren', 'funny', 'candles', 'implies', 'wendeth', 'relatives', 'alarm', 'cease', 'breaks', 'loathes', 'dog', 'appetites', 'borrows', 'sooth', 'applies', 'let', 'mental', 'purity-monger', 'rapacious', 'roadstead', 'leap', 'barges', 'tells', 'bathes', 'lads', 'press', 'stand', 'respects', \"hung'em\", 'lest', 'DEAR', 'roundwhich', 'descends', 'buck', 'anxious', 'seems', 'ar', 'humbles', 'obliges', 'turns', 'dim', 'ourselves', 'lengthen', 'fain', 'demand', 'warms', 'paint', 'turn', 'Ai', 'uphold', 'beans', 'home', 'rich', 'appropriate', 'paints', 'thumps', 'emerge', 'Hear', 'lift', 'pray', 'Things', 'purpose', 'arises', 'ale', 'degenerates', 'downstairs.', 'flies', 'enforce', 'stupid', 'wait', 'abideth', 'arrives', 'wonderful', 'derives', 'move', 'pass', 'thereto', 'coughs', 'Shapes', 'devils', 'lands', 'bind', 'build', 'subsists', 'pocket', 'afloat', 'stills', 'furbelows', 'chuckles', 'speak', 'burns', 'eagerly.', 'infests', 'Holmes', 'entertain', 'mankind', 'condescend', 'proposes', 'angry', 'obedient', 'walks', 'plead', 'seeth', 'thereon', 'fulfilleth', 'bea', 'undulates', 'mean', 'begin', 'lets', 'chatter', 'blush', 'Get', 'secrets', 'halt', 'careless', 'considers', 'approve', 'descries', 'gardens', 'retires', 'briefly', 'whistles', 'supplies', 'afterwards', 'incidental', 'sayest', 'throw', 'shoves', 'appreciates', 'consign', 'spares', 'conduct', 'support', 'removes', 'yours', 'approaches', 'understood', 'aloud', 'head', 'aid', 'unsettles', 'met', 'farewell', 'Am', 'Waldershare', 'disturbs', 'forfeits', 'writes', 'doctors', \"'ve\", 'promises', 'carles', 'kept', 'passion.', 'pounds', 'intact', 'll', 'scream', 'mare', 'intervenes', 'devolves', 'knoweth', 'returned.', 'assents', 'rightly', 'fails', 'punishments', 'freed', 'scarcely', 'declines', 'overcame', 'backs', 'stink', 'clave', 'roast', 'hadn', 'arrive', 'envys', 'intrudes', 'tidy', 'claimed', 'sleeves', 'side', 'le', 'pushes', 'thanks', 'interfere', 'inherits', 'weave', 'spun', 'blazed', 'forgot', 'leant', 'vulgarize', 'forsook', 'regain', 'eater', 'vomits', 'glitter', 'kiss', 'happens', 'virtues', 'wrings', 'Cain', 'outburst', 'gather', 'star', 'coveteth', 'grant', 'speaks', 'en', 'heed', 'followed', 'sleeps', 'strode', 'beset', 'tramp', 'steadily.', 'canna', 'ship', 'rots', 'spend', 'accompany', 'retains', 'churches', 'quire', 'stems', 'caps', 'smash', 'betwixt', 'diamonds', 'seals', 'beautiful', 'marries', 'village', 'rude', 'convince', 'assumes', 'eases', 'suspect', 'returns', 'Strays', 'subjugates', 'participate', 'ere', 'imitates', 'compensates', 'lace', 'give', 'sovereigns', 'welcome', 'all.', 'ice', 'attribute', 'luck', 'commits', 'describes', 'elbow', 'Think', 'wood', 'assent.', 'unto', 'prevent', 'search', 'demands', 'riot', 'hands', 'deserve', 'heard', 'haven', 'plays', 'injury', 'Wiggins', 'classes', 'clears', 'complete', 'Wages', 'calmly', 'vessel', 'informed', 'betray', 'enclose', 'creature', 'durst', 'said.', 'shuns', 'handles', 'economies', 'lacks', 'slopes', 'yonder', 'impudent', 'exclude', 'fog', 'insult', 'boroughs', 'lay', 'slowly', 'layeth', 'softens', 'formed', 'split', 'warm', 'wouldn', 'chickens', 'ran', 'greasy', 'burst', 'tower', 'directs', 'abide', 'whilome', 'groweth', 'bite', 'casts', 'betook', 'sits', 'arose', 'seizes', 'accidental', 'preaches', 'pullest', 'moor', 'performs', 'recognize', 'sooner', 'threatens', 'protest', 'over-run', 'taste', 'struggle', 'oblige', 'governs', 'grants', 'fetch', 'bestows', 'pervades', 'test', 'couldna', 'acts', 'consisteth', 'twig', 'ditches', 'shuts', 'stood', 'persists', 'convey', 'dances', 'repeats', 'resumes', 'influences', 'heerd', 'thereat', 'urges', 'keel', 'passed.', 'minx', 'sore', 'indulge', 'dwelt', 'arrows', 'varies', 'responds', 'achieve', 'correct', 'yoy', 'writhes', 'wonders', 'arms', 'guarantee', 'Meets', 'blithe', 'sung', 'faints', 'gain', 'agitates', 'flatter', 'invent', 'imagines', 'hangeth', 'Wo', 'ajar', 'range', 'l', 'fluffy', 'ponds', 'picture', 'missesses', 'friends', 'yearn', 'shifty', 'damme', 'collapses', 'sane', 'raises', 'yield', 'fail', 'remote', 'cool', 'avez', 'guard', 'echo', 'adjusts', 'estates', 'dishes', 'manages', 'peace', 'slander', 'presents', 'clash', 'aforesaid', 'needna', 'learn', 'confess', 'clasps', 'entrust', 'void', 'try', 'hastens', 'writ', 'undergone', 'appetite', 'hold', 'girt', 'overcome', 'loves', 'attires', 'gat', 'Contrasts', 'nods', 'subterranean', 'hams', 'fawn', 'dwelleth', 'invade', 'inflict', 'votes', 'dispute', 'doot', 'limbs', 'rake', 'likes', 'peculiar', 'think', 'hurt', 'account', 'carries', 'blankly', 'breathes', 'curiously.', \"a'n't\", 'womankind', 'lanterns', 'played', 'stricken', 'stomach', 'extinguishes', 'hum', 'hussy', 'tis', 'apply', 'agin', 'elude', 'plates', 'shone', 'twenty', 'vewy', 'dares', 'commends', 'hath', 'whenas', 'soughtest', 'peer', 'advance', 'accuses', 'intends', 'espies', 'grind', 'stairs', 'binds', 'insects', 'kick', 'forbear', 'reaches', 'gaze', 'stages', 'struck', 'ease', 'chubby', 'express', 'distinct', 'puzzles', 'didn', 'gasped.', 'avoid', 'leave', 'wish', 'approach', 'discharges', 'bêtises', 'desecrate', 'rambles', 'owes', 'dislikes', 'withdrawn', 'boys', 'hinges', 'bands', 'clean', 'proud', 'intimates', 'places', 'tie', 'affirms', 'hate', 'sink', 'stare', 'overwhelm', 'rely', 'anticipates', 'Take', 'floats', 'disperse', 'end', 'offer', 'misdoubt', 'cleave', 'faces', 'point', 'slings', 'hardens', 'surprise', 'her.', 'recall', 'view', 'intense', 'notice', 'summon', 'inspire', 'regret', 'agree', 'cheer', 'abhor', 'contributes', 'strike', 'wisdom', 'detect', 'covets', 'agone', 'contains', 'massacres', 'discover', 'drags', 'lookit', 'wept', 'coincides', 'ache', 'intimacies', 'cools', 'risks', 'grasps', 'rivals', 'learnt', 'babies', 'palm', 'concludes', 'provides', 'suppose', 'nothin', 'combat', 'round', \"p'raps\", 'deplore', 'anecdotes', 'continue', 'own', 'amuses', 'pull', 'further', 'wanders', 'Show', 'middle', 'sow', 'consuls', 'subscribe', 'points', 'merry', '-bones', 'swarm', 'lend', 'beats', 'vain', 'ushers', 'disdain', 'imagine', 'feature', 'doubteth', 'slept', 'win', 'indulged', 'grave', 'ma', 'juvenile', 'direct', 'am', 'garden', 'pair', 'help', 'proceed', 'wooes', 'belongs', 'snap', 'grudge', 'ancient', 'widow', 'sha', 'agrees', 'knows', 'elses', 'undo', 'reigns', 'defy', 'doth', 'pick', 'reproaches', 'wohl', 'daddy', 'enable', 'address', 'rejoins', 'submits', 'fur', 'fools', 'Ca', 'bethink', 'moves', 'enables', 'pervert', 'forget', 'send', 'warnts', 'make', 's', 'buzzes', 'ignorant', 'fly', 'chid', 'pricks', 'la', 'believes', 'clocks', 'hasn', 'die', 'mad', \"sha'n't\", 'urge', 'suns', 'mourn', 'break', 'abet', 'gayly', 'bow', 'pretends', 'to-day', 'rend', 'shouts', 'revenge', 'sets', 'surprising.', 'shies', 'receive', 'ai', 'was.', 'feels', 'brows', 'mus', 'cut', 'waters', 'friendship', 'warmth', 'treat', 'stole', 'degree', 'Thus', 'skeleton', 'listened.', 'commit', 'abides', 'Is', 'closes', 'sigh', 'neglect', 'hunts', 'descant', 'Highnesses', 'grey', 'cottages', 'lady', 'draws', 'contradict', 'falls', 'rolls', 'drop', 'miss', 'pebbles', 'arisen', 'tails', 'ties', 'half', 'robs', 'foreseen', 'gainsay', \"a'most\", 'needn', 'dreams', 'wake', 'name', 'downcast', 'atween', 'brains', 'obscene', 'willows', 'resounds', 'exercise', 'peep', 'Ascott', 'undertaken', 'plight', 'misery', 'washes', 'images', 'explain', 'moralise', 'snake', 'marry', 'Oh', 'tipsy', 'lends', 'present', 'Boys', 'addresses', 'engenders', 'mash', 'drown', 'searches', 'rises', 'Hitherto', 'whereas', 'retard', 'wore', 'grows', 'belabor', 'swore', 'induce', 'wash', 'deeply', 'dug', \"woke'em\", 'born', 'clutches', 'counts', 'interferes', 'lapse', 'landladies', 'queer', 'deprives', 'alive', 'erase', 'undertake', 'forces', 'forgive', 'awakens', 'warrant', 'live', 'dark', 'push', 'guide', 'chapel', 'defies', 'inquires', 'arter', 'behind', 'excellent', 'contrive', 'fight', 'saddle', 'span', 'scratches', 'reports', 'purify', 'compromises', 'consider', 'confer', 'changed', 'incloses', 'biscuits', 'vary', 'meant', 'calm', 'attempts', 'overspread', 'rain', 'colours', 'blue', 'Misses', 'whatever', 'fed', 'cometh', 'dashes', 'describe', 'psalm', 'mount', 'bear', 'thitherward', 'regard', 'CHAPTER', 'drave', 'Suffer', 'sure', 'fixed', 'notices', 'shelter', 'mourns', 'please', 'stick', 'aren', 'tufts', 'uncouth', 'behave', 'deceive', 'dirty', 'mistake', 'weeps', 'mingles', 'predict', 'stalls', 'gentle', 'dreamt', 'conduces', 'dessay', 'stifles', 'surprises', 'erects', 'summons', 'Already', 'droop', 'answered.', 'hitherto', 'silent', 'finds', 'flashes', 'infer', 'edits', 'deemed', 'scavenger', 'connect', 'entitles', 'restores', 'trod', 'hast', 'find', 'do', 'puts', 'congratulate', 'baulk', 'anathema', 'clothe', 'continues', 'debates', 'kep', 'descry', 'beseech', 'winds', 'ring', 'excuse', 'islands', 'caution', 'hankers', 'over.', 'dinner', 'skirteth', 'conjectures', 'sunder', 'ripples', 'salute', 'detects', 'haunteth', 'oh', 'aspires', 'frighten', 'elect', 'aurati', 'sticks', 'execrate', 'throws', 'sings', 'delight', 'generate', 'thought', 'wound', 'acquires', 'fulfils', 'despise', 'longs', 'adieu', 'Tarry', 'lonesome', 'misinterpret', 'bent', 'deems', 'punishes', 'explains', 'proceeds', 'prepare', 'gloves', 'heave', 'hung', 'beasts', 'affectionate', 'sober', 'bothers', 'shine', 'gyaird', 'bursts', 'claim', 'worships', 'answers', 'Leaves', 'such', 'settle', 'measures', 'teach', 'mild', 'save', 'attempt', 'y', 'frail', 'torn', 'laden', 'canvass', 'woo', 'earneth', 'supposes', 'Heavens', 'strung', 'resembles', 'tendernesses', 'avail', 'deepens', 'serveth', 'weren', 'stay', 'complain', 'rooty', 'flaps', 'rejices', 'represents', 'chest', 'door', 'wives', 'permits', 'dominates', 'sprung', 'improves', 'laid', 'accurate', 'swept', 'tried', 'seldom', 'imparts', 'motionless.', 'possesses', 'occurs', 'wheel', 'to-morrow', 'wars', 'babes', 'sketch', 'sheds', 'availeth', 'equal', 'esteem', 'calleth', 'sir', 'quoth', 'smoke', 'anywheres', 'voyages', 'bayn', 'marmalade', 'creates', 'proves', 'correspond', 'awake', 'glides', 'purchase', 'click-clack', 'knelt', 'ends', 'troubles', 'mistaken', 'Warnts', 'allows', 'encourage', 'aside', 'ruffles', 'swears', 'succeeds', 'fresh', 'wearies', 'annex', 'tame', 'stop', 'sways', 'tries', 'lain', 'counsels', 'daren', 'romp', 'wot', 'feel', 'eats', 'wunna', 'rest', 'holds', 'rains', 'fret', 'better', 'reform', 'swaggers', 'warden', 'smile', 'draw', 'puzzle', 'cry', 'bemoans', 'still.', 'eyebrows', 'communicates', 'horrid', \"look'ee\", 'witnessed.', 'employed', 'awoke', 'Shortlands', 'built', 'persisted.', 'smell', 'dresses', 'beg', 'prove', \"tow'rt\", 'd', 'torments', 'cherish', 'infuses', 'unites', 'prefer', 'aglow', 'waxen', 'brow', 'springs', 'clad', 'doat', 'endeavour', 've', 'fatal', 'avails', 'add', 'shameth', \"see't\", 'partickler', 'druv', 'consult', 'labours', 'ridges', 'divides', 'separate', 'tarry', 'naysaid', 'yes', 'weighs', 'whilst', 'weakens', 'daresay', 'exceed', 'sell', 'employs', 'breakfasts', 'proceeded.', 'ready', 'strange', 'suffer', 'trust', 'consists', 'disappears', 'pardon', 'indignant', 'clothed.', 'devotes', 'shelves', 'gallops', 'hang', 'flow', 'march', 'meets', 'vociferates', 'tread', 'nauseates', 'toldest', 'affects', 'exist', 'trespass', 'scares', 'blows', 'blast', 'requires', 'persist', 'yeux', 'perfect', 'wander', 'phrase', 'âmes', 'anigh', 'bitter', 'breathed\\\\out', 'rouses', 'secures', 'clomb', 'exists', 'Say', 'friend', 'Wilkins', 'are', 'shouldn', 'shouldst', 'trifle', 'jealous', 'lived', 'louder', 'complied.', \"d'you\", 'meseems', 'work', 'compounds', 'hear', 'jerks', 'keepsake', 'approves', 'thee', 'appears', 'sense', 'roundabout', 'thrust', 'dust', 'sharpens', 'enter', 'marks', 'link', 'abode', 'Give', 'rede', 'rumours', 'empty', 'celebrates', 'injures', 'loses', 'quit', 'readers', 'jewels', 'pale', 'armour', 'poetry', 'sly', 'bottles', 'reads', 'culminates', 'ceases', 'saucy', 'Make', 'A', 'lock', 'needs', 'fortunate', 'impute', 'Horses', 'alters', 'Trodgits', 'sniffed', 'wished', 'slips', 'realise', 'dwells', 'grieves', 'reduces', 'sorry', 'ate', 'worship', 'spoken', 'astride', 'dost', 'gruffly', 'seeks', 'suffices', 'control', 'splendid', 'blew', 'touch', 'cries', 'till', 'request', 'legs', 'rattle', 'pains', 'hateful', 'leaveth', 'wear-and', 'widen', 'plain', 'is', 'coz', 'abound', 'AM', 'lurks', 'crept', 'omnibuses', 'couldn', 'believe', 'sit', 'prune'}\n",
      "Word in past tense:\n",
      "{'Coiled', 'fumed', 'heareth', 'maid', 'mimicked', 'pored', 'cared', 'constrained', 'bullied', 'sloped', 'sneered', 'tarnished', 'filmed', 'professed', 'out.', 'thickened', 'swooned', 'atoned', 'insiniwated', 'attempted', 'turned', 'clotted', 'gibbered', 'breakfast', 'showered', 'unpossessed', 'cried', 'hateth', 'figured', 'deterred', 'exalts', 'impregnated', 'dictated', 'unfulfilled', 'lurked', 'lent', 'dazed', 'treasured', 'goaded', 'clanged', 'corroborated', 'axes', 'swaggered', 'lighted', 'lounged', 'planted', 'imbibed', 'Lived', 'bore', 'confound', 'inveigled', 'snored', 'squirmed', 'vindicated', 'convulsed', 'over-persuaded', 'choked', 'refuted', 'Shocked', 'recrossed', 'modelled', 'worthy', 'blocked', 'meet', 'unlocked', 'undeveloped', 'plashed', 'rambled', 'tinged', 'floored', 'parcelled', 'narrated', 'chagrined', 'passed', 'rivalled', 'jumped', 'curtained', 'shot', 'spelt', 'darkened', 'slew', 'furrowed', 'Might', 'vented', 'attacked', 'initiated', 'Imprisoned', 'rejected', 'relived', 'affronted', 'denominated', 'cajoled', 'mediatised', 'murmured', 'slid', 'struggled', 'wriggled', 'offered', 'created', 'coldly.', 'sneaked', 'resulted', 'quailed', 'minished', 'glad', 'lead', 'oozed', 'nailed', 'undermined', 'drugged', 'hired', 'plundered', 'harassed', 'glowed', 'cruised', 'butted', 'organized', 'relieved', 'warbled', 'undressed', 'contrived', 'advertised', 'inquired', 'disclosed', 'deported', 'before.', 'silvered', 'therewith', 'clung', 'commended', 'repeated', 'highsted', 'used', 'organised', 'craved', 'dishabilled', 'cursed', 'storied', 'confided', 'diverted', 'slithered', 'discontented', 'marred', 'trapped', 'qualified', 'therefore', 'summoned', 'waned', 'situated', 'loosen', 'participated', 'flanked', 'stayed', 'satisfied', 'counted', 'inspected', 'gasped', 'surpassed', 'looped', 'wedged', 'waken', 'mile', 'afield', 'early', 'entrusted', 'begrudged', 'blended', 'prattled', 'fleeced', 'flinched', 'foresaw', 'trimmed', 'harboured', 'forbore', 'tight', 'smirched', 'inspired', 'observed', 'grieved', 'shouted', 'stretched', 'winged', 'abducted', 'sunshiny', 'upbraided', 'relented', 'advanced', 'thanked', 'flashed', 'detained', 'sang', 'cantered', 'bethought', 'hugged', 'forwarded', 'journeyed', 'betrayed', 'collected', 'mystified', 'obliged', 'designed', 'led', 'backed', 'assailed', 'groaned', 'embarked', 'sickened', 'griped', 'ticked', 'impressed', 'buckled', 'no', 'graced', 'murdered', 'XLIII', 'equivocated', 'unaccompanied', 'desisted', 'resorted', 'SUCCEEDS', 'oughtn', 'enraptured', 'sailed', 'sympathised', 'kneaded', 'rounded', 'supervised', 'lied', 'knight', 'flagged', 'borrowed', 'incriminated', 'sowed', 'affixed', 'furnished', 'brought', 'slumbered', 'volunteered', 'vanished', 'stiffened', 'amounted', 'betid', 'precipitated', 'hereof', 'recognized', 'plaited', 'worked', 'apostrophised', 'besmeared', 'menaced', 'masked', 'mined', 'prompted', 'evaded', 'sheer', 'alluded', 'interjaculated', 'entranced', 'eased', 'drained', 'babbled', 'enrolled', 'swayed', 'damned', 'unimpaired', 'analysed', 'gainsaid', 'paid', 'aroused', 'accursed', 'proclaimed', 'lifted', 'styled', 'compressed', 'excused', 'raked', 'reëntered', 'repudiated', 'coaxed', '’', 'approved', 'shortened', 'merged', 'discarded', 'hard.', 'elected', 'look', 'forth', 'reserved', 'tooted', 'flattered', 'racked', 'quieted', 'behaved', 'derived', 'flipped', 'reminded', 'loosened', 'awaited', 'disposed', 'inverted', 'taxed', 'flew', 'granted', 'whereof', 'remounted', 'stained', 'answered', 'horsed', 'patterned', 'none', 'chuckled', 'hemmed', 'endued', 'bestirred', 'tired', 'dreaded', 'forgat', 'lacerated', 'begged', 'plumbed', 'flapped', 'unapplauded', 'crippled', 'glowered', 'considered', 'unscrewed', 'frequented', 'gained', 'again.', 'rowed', 'ruffled', 'disarmed', 'drawled', 'gabled', 'opined', 'bushed', 'commiserated', 'absconded', 'scarce', 'conferred', 'coughed', 'dispelled', 'embosomed', 'retouched', 'interfered', 'unbudded', 'petted', 'consigned', 'justified', 'discoloured', 'rated', 'stitched', 'worth', 'choke', 'hipped', 'rushed', 'moustache', 'meddle', 'Blessed', 'disengaged', 'arrayed', 'panted', 'sobs', 'nerved', 'nought', 'happed', 'stammered', 'forsooth', 'Was', 'pushed', 'packed', 'blindfolded', 'signified', 'chiefly', 'crawled', 'disadvised', 'abused', 'tortured', 'scolded', 'pinched', 'erred', 'bid', 'eaten', 'protested', 'wooed', 'mangled', 'rewarded', 'cramped', 'cleared', 'deferred', 'fronted', 'reddened', 'revealed', 'terrified', 'modified', 'lifts', 'accustomed', 'requested', 'sanctioned', 'shock', 'rode', 'whereon', 'won', 'exclaimed', 'contended', 'engrossed', 'feigned', 'augured', 'loved', 'proved', 'waste', 'tiled', 'whisked', 'roughened', 'closed', 'groveled', 'remembered', 'endeavoured', 'filled', 'affirmed', 'ringed', 'tholed', 'devolved', 'settled', 'subjected', 'drifted', 'imitated', 'downhearted', 'horrified', 'hatred', 'charged', 'dappled', 'ordained', 'cussed', 'bury', 'displeased', 'forbid', 'marvel', 'scored', 'XXIX', 'hindered', 'betided', 'staid', 'smeared', 'boarded', 'chanced', 'pleaded', 'sauntered', 'discharged', 'crawl', 'burrowed', 'whirled', 'hustled', 'sacred', 'attended', 'disinclined', 'swam', 'holy', 'equipped', 'sundered', 'wreathed', 'extended', 'boasted', 'sealed', 'conjured', 'delighted', 'mistook', 'revolved', 'bare', 'entwined', 'frighted', 'christened', 'converted', 'inhabited', 'befitted', 'suggested.', 'forced', 'hovered', 'beheld', 'bespoke', 'nocked', 'refused', 'boded', 'score', 'disinterested', 'interlarded', 'mullioned', 'disseminated', 'boiled', 'busied', 'divided', 'enkindled', 'lapped', 'embittered', 'wanted', 'obliterated', 'whiled', 'slight', 'divined', 'occurred', 'sobbed', 'behold', 'avoided', 'elated', 'wrung', 'fastened', 'implied', 'realised', 'fulfilled', 'disdained', 'supported', 'startled', 'radiated', 'trespassed', 'misrepresented', 'Broke', 'clanked', 'sacrificed', 'cowered', 'entitled', 'XXXIX', 'walked', 'unfounded', 'dodged', 'recorded', 'stung', 'et', 'cheered', 'browned', 'swung', 'induced', 'exhilarated', 'supped', 'heretofore', 'propounded', 're-entered', 'melted', 'wheezed', 'postponed', 'warded', 'pinned', 'XLVI', 'effected', 'faded', 'wakened', 'jostled', 'erected', 'drew.', 'gored', 'engaged', 'tangled', 'tapped', 'admonished', 'hailed', 'beat', 'folk', 'ticketed', 'firelight', 'penetrated', 'overjoyed', 'XXII', 'baulked', 'stroke', 'lured', 'outstretched', 'worshipped', 'absent', 'shared', 'smelt', 'unbound', 'watched', 'arrested', 'honored', 'imagined', 'hindereth', 'alternated', 'persuaded', 'mused', 'spurred', 'stroked', 'profited', 'waged', 'limped', 'decided', 'tore', 'perplexed', 'mistrusted', 'bit', 'solemn', 'fumbled', 'rocked', 'avouched', 'saith', 'appealed', 'XXIV', 'plastered', 'reduced', 'awakened', 'landed', 'lagged', 'library', 'suppressed', 'throbbed', 'clenched', 'vaulted', 'honoured', 'declined', 'mollified', 'Treated', 'Reconciled', 'unnoticed', 'necessitated', 'unobserved', 'disliked', 'misdirected', 'chanted', 'upon', 'transferred', 'carved', 'enforced', 'began', 'affected', 'throwed', 'willed', 'mortified', 'Peg', 'betted', 'heard.', 'inaugurated', 'wilt', 'applied', 'respected', 'trailed', 'shred', 'piloted', 'ravaged', 'stamped', 'carried', 'Fared', 'accorded', 'throned', 'ensconced', 'slung', 'piped', 'Wore', 'despatched', 'oppressed', 'troubled', 'stowed', 'humored', 'bored', 'cankered', 'diversified', 'afforded', 'stopped.', 'shrivelled', 'mastered', 'unclenched', 'glanced', 'towered', 'fractured', 'encompassed', 'shod', 'blowed', 'rusted', 'propped', 'consulted', 'gripped', 'hallooed', 'amongst', 'halted', 'scanned', 'shunned', 'canvassed', 'XXV', 'annihilated', 'quelled', 'agreed', 'operated', 'kissed', 'buttonholed', 'chimed', 'prayed', 'misdoubted', 'bearded', 'needed', 'breasted', 'Died', 'raced', 'circumnavigated', 'slain', 'notified', 'stalks', 'emerged', 'wheeled', 'scorned', 'seasoned', 'deed', 'quarrelled', 'overarched', 'shyly', 'apologized', 'altered', 'XLIX', 'hooded', 'forsaken', 'identified', 'sent', 'spied', 'regulated', 'roasted', 'bathed', 'prided', 'loathed', 'embossed', 'slanted', 'distended', 'Robbed', 'peered', 'manœuvred', 'stooped', 'confused', 'spoilt', 'adjourned', 'dilated', 'immolated', 'increased', 'gladdened', 'single-handed', 'pervaded', 'attracted', 'improvised', 'studded', 'perched', 'absolved', 'rippled', \"wouldn't.\", 'bagged', 'slammed', 'steeped', 'expressed', 'explained', 'beckon', 'straitlaced', 'withheld', 'rested', 'expended', 'undefined', 'brake', 'wiped', 'kingdom', 'somehow', 'lectured', 'yielded', 'clipped', 'blinded', 'cultivated', 'tripped', 'governed', 'famed', 'delayed', 'dismounted', 'clasped', 'whined', 'misled', 'succumbed', 'thumped', 'mark', 'behooved', 'sipped', 'interspersed', 'XXI', 'warnt', 'sprang', 'envied', 'ranged', 'reappeared', 'soothe', 'added', 'contained', 'catered', 'foregone', 'shielded', 'flared', 'appalled', 'corrected', 'predominated', 'received', 'failed', 'conceived', 'beside', 'demonstrated', 'scorn', 'stupefied', 'refolded', 'awed', 'mended', 'waylaid', 'rang', 'lapsed', 'spoke', 'withered', 'pursued', 'besought', 'said', 'originated', 'lasted', 'wrested', 'constructed', 'picked', 'sails', 'drawed', 'pared', 'repined', 'accosted', 'shamefaced', 'worn', 'chafed', 'effaced', 'Deserted', 'issued', 'laded', 'noted', 'put', 'stranded', 'Said', 'scrutinized', 'massacred', 'orphaned', 'coddled', 'uncovered', 'repeated.', 'screamed', 'patted', 'removed', 'fast', 'lament', 'waxed', 'meddled', 'immortalized', 'banned', 'wandered', 'grow', 'conversed', 'pondered', 'X.', 'sank', 'dragged', 'flogged', 'lunched', 'bumped', 'spat', 'inserted', 'deadened', 'sanctified', 'sat', 'lamented', 'motioned', 'solaced', 'quickened', 'labored', 'begrimed', 'milked', 'singled', 'LVII', 'moulded', 'branched', 'shambled', 'waked', 'wasn', 'blinked', 'concluded', 'voted', 'reproved', 'happily', 'eccentric', 'planned', 'sacked', 'bargained', 'puckered', 'promoted', 'assured', 'adore', 'blamed', 'Smiled', 'bemused', 'emanated', 'laugh', 'wobbled', 'thank', 'preferred', 'narrowed', 'incited', 'enclosed', 'crumpled', 'trained', 'traveled', 'grooved', 'folded', 'ceased', 'purred', 'weighed', 'braced', 'characterized', 'enquired', 'secreted', 'slaved', 'lessened', 'embarrassed', 'dangled', 'scowled', 'branded', 'frenzied', 'favoured', 'tempered', 'wove', 'dived', 'threatened', 'arranged', 'switched', 'contented', 'degraded', 'contributed', 'accepted', 'lurched', 'skipped', 'prospected', 'harped', 'wherefore', 'dignified', 'polished', 'contracted', 'distracted', 'comprised', 'persevered', 'mantled', 'inclined', 'impelled', 'trussed', 'sported', 'shirked', 'expected', 'obtained', 'prepared', 'Winifred', 'stifled', 'hit', 'condensed', 'objected', 'wrenched', 'deceased', 'second', 'testified', 'strengthened', 'departed', 'scribbled', 'oiled', 'regained', 'walled', 'twisted', 'vexed', 'sucked', 'served', 'returned', '_must_', 'wor', 'gazed', 'owed', 'ruled', 'frisked', 'communed', 'checked', 'appended', 'galled', 'assigned', 'twilight', 'palled', 'flooded', 'emptied', 'accused', 'danced', 'selected', 'em', 'tipped', 'marked', 'barked', 'confounded', 'repelled', 'fired', 'mourned', 'dilapidated', 'interjected', 'dread', 'reigned', 'fevered', 'tramped', 'obtruded', 'leaped', 'reverted', 'remonstrated', 'exacted', 'sunk', 'had', 'trampled', 'confuted', 'outblazed', 'sinned', 'acquitted', 'lined', 'Set', 'rasped', 'disregarded', 'banished', 'weeping.', 'ignored', 'squeezed', 'lightheaded', 'bared', 'disputed', 'Told', 'subjoined', 'gathered', 'unowned', 'inflated', 'surmised', 'obeyed', 'brewed', 'encamped', 'cringed', 'contained.', 'disjoined', 'held', 'unlearned', 'bucked', 'aspired', 'thrown', 'improved', 'dawdled', 'educated', 'rosy', 'unlaced', 'strapped', 'endured', 'conducted', 'married', 'laced', 'belonged', 'converged', 'distressed', 'strolled', 'prescribed', 'rejoined', 'alarmed', 'overwhelmed', 'numbered', 'requited', 'reconciled', 'Laughed', 't', 'Looked', 'munched', 'whetted', 'bestowed', 'resented', 'knew', 'straggled', 'concentrated', 'signalized', 'howso', 'dropped', 'inflamed', 'schooled', 'uncompelled', 'wert', 'girded', 'signed', 'affrighted', 'assented', 'bound', 'dishevelled', 'imposed', 'precluded', 'captivated', 'threaten', 'blistered', 'scuttled', 'clew', 'straightened', 'greeted', 'keeps', 'surcharged', 'overmastered', 'roared', 'displayed', 'bewailed', 'stopped', 'felt', 'deliberated', 'scooped', 'bemoaned', 'giggled', 'XIII', 'joked', 'quaked', 'detailed', 'accompanied', 'wherein', 'officiated', 'quivered', 'poured', 'exhorted', 'broadened', 'martyred', 'roamed', 'afraid', 'childhood', 'descanted', 'heaped', 'existed', 'dealt', 'heared', 'transgressed', 'jotted', 'spoiled', 'asked.', 'detached', 'jolted', 'found', 'buttoned', 'cheated', 'nodded', 'devoted', 'purposed', 'believed.', 'ransacked', 'scared', 'louted', 'renew', 'flowed', 'flocked', 'cloaked', 'laughed', 'threw', 'hooted', 'questioned', 'gnarled', 'winked', 'guested', 'presumed', 'comprehended', 'stepped', 'betokened', 'conveyed', 'fawned', 'spirted', 'expedient', 'disordered', 'moaned', 'consumed', 'essayed', 'clambered', 'filliped', 'adopted', 'sparkled', 'slay', 'beckoned', 'discussed', 'retailed', 're-assured', 'abated', 'defied', 'sought', 'ruminated', 'hobbled', 'nipped', 'wedded', 'whistled', 'maddened', 'drank', 'bulged', 'shipwrecked', 'refined', 'peeled', 'disencumbered', 'hid', 'come', 'plunged', 'squatted', 'glorified', 'puzzled', 'XXX', 'therewithal', 'denounced', 'farmed', 'undisputed', 'forsake', 'shut', 'prostrated', 'wrecked', 'pronounced', 'balanced', 'wellnigh', 'XII', 'chopped', 'corrupted', 'ruined', 'modernized', 'spoil', 'sallied', 'deceived', 'rung', 'panelled', 'cooled', 'impounded', 'unforlded', 'punished', 'perished', 'saddened', 'implored', 'stuck', 'steamed', 'grappled', 'splashed', 'sound', 'doubted', 'remained', 'caught', 'strewed', 'scotched', 'reunited', 'unfurls', 'read', 'decorated', 'showed', 'ratified', 'cawed', 'hastened', 'knew.', 'sum', 'shalt', 'hackneyed', 'traced', 'sweet', 'owned', 'covered', 'rebounded', 'leapt', 'lo', 'bless', 'appeared.', 'neglected', 'paled', 'nominated', 'furthered', 'distilled', 'forged', 'Put', 'strove', 'relinquished', 'augmented', 'blushed', 'occupied', 'afford', 'dated', 'rebuked', 'climbed', 'slackened', 'basked', 'fought', 'happened', 'enthroned', 'preserved', 'withdrew', 'beautified', 'basketfuls', 'crimsoned', 'conceded', 'dissolved', 'clicked', 'wagged', 'hawed', 'recommended', 'exchanged', 'gagged', 'directed', 'liked', 'neutralised', 'brightened', 'cackled', 'unmasked', 'renounced', 'steered', 'distrusted', 'descried', 'expatiated', 'whenever', 'welted', 'sayeth', 'mixed', 'marvelled', 'dawned', 'jabbed', 'twilled', 'cost', 'booked', 'obstructed', 'blurted', 'fold', 'embalmed', 'submitted', 'transformed', 'concerned', 'grunted', 'compel', 'hunted', 'untroubled', 'scent', 'vaguely-felt', 'celebrated', 'acquainted', 'published', 'underlined', 'soaked', 'surveyed', 'involved', 'condoled', 'capitulated', 'Would', 'clapped', 'dried', 'intervened', 'prized', 'battered', 'hoisted', 'regarded', 'right', 'wrench', 'thrummed', 'warmed', 'apportioned', 'shook', 'trusted', 'riddled', 'defeated', 'thou', 'undertook', 'composed', 'quarreled', 'hoped', 'inhaled', 'blossomed', 'derided', 'chained', 'stumbled', 'biddeth', 'chalked', 'yelled', 'transcended', 'clustered', 'cleaved', 'plodded', 'circled', 'bounced', 'hinted', 'lingered', 'hiccupped', 'preached', 'curled', 'permitted', 'untouched', 'stilled', 'pocketed', 'laboured', 'Offended', 'controlled', 'unrebuked', 'unfastened', 'treated', 'fated', 'mammy', 'snapped', 'trowed', 'briskly', 'hove', 'defended', 'havoc', 'earned', 'paddled', 'deafened', 'hesitated', 'woe', 'excelled', 'chose', 'peeped', 'amended', 'tingled', 'resided', 'subsisted', 'chiselled', 'salaried', 'replenished', 'foreshadowed', 'unreturned', 'credited', 'summed', 'pilfered', 'mustn', 'crouched', 'became', 'deducted', 'welled', 'assembled', 'complicated', '~', 'severed', 'instructed', 'banged', 'influenced', 'explored', 'elapsed', 'overpowered', 'timed', 'burdened', 'gave', 'left', 'invaded', 'abashed', 'gibbeted', 'blubbered', 'abased', 'acceded', 'administer', 'drooped', 'advocated', 'whimpered', 'paved', 'emulated', 'got', 'pelted', 'XXXIII', 'nibbled', 'out-manoeuvred', 'saw', 'rank', 'consoled', 'slapped', 'yarned', 'restrained', 'diminished', 'demolished', 'caressed', 'stuffed', 'Provided', 'trickled', 'assisted', 'withstood', 'drew', 'tossed', 'surrendered', 'grinned', 'reared', 'pitched', 'wended', 'unwaked', 'extracted', 'escaped', 'contravened', 'dallied', 'acquiesced', 'waved', 'sheltered', 'overhauled', 'rugged', 'expired', 'invited', 'muffled', 'silenced', 'shivered', 'recoiled', 'spake', 'breathed', 'lost', 'measured', 'clutched', 'flog', 'painted', 'descended', 'spread', 'overflowed', 'dreamed', 'comforted', 'forewarned', 'foreboded', 'unfolded', 'touched', 'babyfied', 'bloated', 'shaken', 'obligated', 'encouraged', 'ha', 'shrank', 'tightened', 'clear-sighted', 'haunted', 'jeered', 'jammed', 'crisped', 'subordinated', 'gushed', 'insulted', 'glided', 'restored', 'replanned', 'raised', 'conwoy', 'token', 'behoved', 'relaxed', 'exposed', 'rained', 'wrought', 'weakened', 'pitied', 'aggravated', 'gev', 'resounded', 'hazarded', 'bewildered', 'glued', 'straitened', 'condemned', 'decreased', 'broidered', 'XVI', 'Enclosed', 'hated', 'submerged', 'hearted', 'inherited', 'tease', 'anticipated', 'secured', 'poached', 'rose', 'wouldst', 'talked', 'suggested', 'ended', 'talented', 'banded', 'separated', 'suspected', 'demanded', 'spurned', 'closegrained', 'gratified', 'scruple', 'adhered', 'loosed', 'veiled', 'pulled', 'sponged', 'witnessed', 'ailed', 'poke', 'pressed', 'overlooked', 'XI', 'repaid', 'combated', 'deluded', 'seemed', 'averred', 'XIV', 'XXXI', 'limited', 'dazzled', 'pointed', 'allotted', 'disapproved', 'unarmed', 'emphasized', 'repulsed', 'managed', 'unbolted', 'flung', 'wafted', 'revoked', 'mocked', 'gnawed', 'espied', 'presided', 'invested', 'bandaged', 'bloomed', 'devilled', 'smote', 'clogged', 'entrapped', 'shaded', 'consolidated', 'wrote', 'gravelled', 'ordered', 'queried', 'chased', 'sunlightened', 'roused', 'required', 'swerved', 'doomed', 'discolored', 'mushed', 'fidgeted', 'endowed', 'raged', 'determined', 'maltreated', 'sirred', 'clattered', 'tumbled', 'bequeathed', \"'d\", 'joined', 'jaded', 'wonted', 'resembled', 'mouldered', 'whistled.', 'ragged', 'replied.', 'weathered', 'halloed', 'straight', 'blasted', 'drawn', 'termed', 'bed', 'aimed', 'tickled', 'spanned', 'enheartened', 'Went', 'began.', 'wainscoted', 'complexioned', 'strayed', 'Passed', 'swarmed', 'tarried', 'sate', 'enjoined', 'reported', 'burnt', 'WHICH', 'enfolded', 'vowed', 'palsied', 'bled', 'mumbled', 'intimidated', 'froze', 'admit', 'himself.', 'popped', 'consented', 'afwaid', 'lodged', 'yeasaid', 'fashioned', 'beneath', 'Knew', 'destroyed', 'animated', 'equalled', 'behight', 'referred', 'latticed', 'entered', 'swallowed', 'speired', 'yearned', 'glimmered', 'aught', 'recalled', 'slowed', 'rubbed', 'traversed', 'spilt', 'stir', 'colored', 'amazed', 'wear', 'reascended', 'stripped', 'undecided', 'crossed', 'ruptured', 'tethered', 'excommunicated', 'knowest', 'likewise', 'challenged', 'perked', 'embodied', 'spellbound', 'knit', 'foregathered', 'fancied', 'tendered', 'fondled', 'fifty', 'relighted', 'rapped', 'supplied', 'coincided', 'beggared', 'practised', 'lashed', 'VII', 'ascertained', 'accept', 'hopped', 'waddled', 'hitched', 'lit', 'started', 'blotted', 'characterised', 'Frightened', 'transfixed', 'drummed', 'registered', 'tormented', 'intended', 'shuddered', 'admitted', 'penned', 'deduced', 'shaped', 'wrinkled', '‘', 'were', 'forgotten', 'sunset', 'XV', 'ramified', 'servant', 'circulated', 'towards', 'mould', 'cumbered', 'trebled', 'fringed', 'expanded', 'subsided', 'pledged', 'brushed', 'confronted', 'corresponded', 'scraped', 'pounced', 'cowed', 'rooted', 'doubtless', 'winced', 'spaced', 'deplored', 'disappeared', 'risked', 'executed', 'engraved', 'frequent', 'disported', 'coupled', 'ebbed', 'varied', 'surnamed', 'betrothed', 'warned', 'pounded', 'roosted', 'communicated', 'saluted', 'pillared', 'abounded', 'echoed', 'cast', 'apprehended', 'repassed', 'consisted', 'forfeit', 'moped', 'ought', 'untasted', 'abhorred', 'absorbed', 'shame', 'availed', 'worsted', 'snubbed', 'asked', 'shaved', 'sustained', 'constituted', 'arched', 'admired', 'spouted', 'scampered', 'disunited', 'ensued', 'asserted', 'guessed', 'bade', 'jerked', 'excluded', 'smoked', 'wielded', 'wrestled', 'bended', 'red', 'ashamed', 'dispersed', 'twitched', 'shamed', 'set', 'fainted', 'good', 'clinked', 'charmed', 'stimulated', 'decayed', 'smacked', 'know', 'longed', 'unprepared', 'frayed', 'rent', 'doesn', 'too.', 'suited', 'discouraged', 'wha', 'fit', 'compelled', 'eluded', 'blots', 'completed', 'grown', 'could.', 'upheld', 'shrilled', 'unasked', 'draped', 'chattered', 'astounded', 'intermingled', 'reward', 'vied', 'shattered', 'stirred', 'idolised', 'purchased', 'feed', 'scorched', 'divested', 'bedight', 'veined', 'squandered', 'muttered', 'muddled', 'despaired', 'shrunk', 'defaced', 'surround', 'reined', 'mingled', 'loose', 'funny', 'shrieked', 'wendeth', 'recommenced', 'soiled', 'chatted', 'deft', 'allowed', 'fingered', 'thoroughbred', 'presupposed', 'amused', 'clinched', 'let', 'imperilled', 'subscribed', 'harmed', 'wasted', 'heaved', 'solicited', 'missed', 'investigated', 'gloried', 'inexperienced', 'reconnoitered', 'ruin', 'rioted', 'continued', 'sip', 'herself', 'traded', 'coveted', 'ventured', 'pouched', 'howled', 'killed', 'glittered', 'enhanced', 'wormed', 'contradicted', 'huddled', 'tucked', 'noticed', 'preceded', 'nights', 'framed', 'saved', 'edged', 'Wicked', 'tottered', 'glistened', 'undaunted', 'confessed', 'supposed', 'presented', 'freshened', 'wonderful', 'hacked', 'cuddle', 'followed.', 'interrupted', 'reassured', 'Fulfilled', 'intimated', 'starred', 'thwarted', 'resumed', 'stabbed', 'detected', 'entreated', 'finished', 'tilled', 'elevated', 'deigned', 'cold', 'recovered', 'tasted', 'concealed', 'faltered', 'assist', 'bounded', 'appointed', 'piqued', 'studied', 'hushed', 'walks', 'seized', 'copied', 'simpered', 'ennobled', 'ascended', 'Approved', 'deposited', 'imparted', 'sandalled', 'revoke', 'confirmed', 'mounted', 'dedicated', 'wast', 'indicated', 'outlawed', 'pined', 'keenly.', 'mildewed', 'substituted', 'poohpoohed', 'vacillated', 'devoured', 'understood', 'attenuated', 'ministered', 'unclosed', 'aloud', 'aid', 'mattered', 'met', 'haled', 'waived', 'collapsed', 'slouched', 'growled', 'deserved', 'translated', 'winded', 'weaponed', 'hardened', 'poisoned', 'curvetted', 'prolonged', 'kept', 'profaned', 'stalked', 'denied', 'fluttered', 'glazed', 'eulogized', 'unturned', 'proffered', 'faced', 'strutted', 'blanched', 'squeaked', 'conceited', 'interested', 'knoweth', 'heeded', 'emblazoned', 'shouldered', 'slided', 'smiled.', 'dynamited', 'matched', 'blent', 'sobered', 'succeeded', 'overcame', 'ingratiated', 'disgusted', 'reflected', 'crushed', 'conquered', 'starched', 'unsealed', 'disorganised', 'convened', 'expounded', 'floundered', 'harvested', 'ornamented', 'suffused', 'claimed', 'side', 'meditated', 'le', 'stared', 'searched', 'disclaimed', 'XLVII', 'spun', 'blazed', 'desired', 'forgot', 'rendered', 'leant', 'rayed', 'acknowledged', 'proportioned', 'mustered', 'kiss', 'posted', 'scrambled', 'sin', 'convinced', 'smothered', 'blurred', 'perceived', 'pedalled', 'sphere', 'pluck', 'bright', 'enabled', 'heed', 'followed', 'strode', 'beset', 'privileged', 'exercised', 'hook', 'ivied', 'meseemed', 'usurped', 'heated', '-promised', 'swamped', 'peaked', 'pierced', 'reframed', 'trotted', 'strangled', 'persisted', 'usened', 'bridge', 'jutted', 'befriended', 'consecrated', 'grasped', 'betwixt', 'rattled', 'frosted', 'marched', 'expiated', 'leaned', 'shuffled', 'XXXVII', 'reopened', 'undid', 'clammed', 'bowled', 'execrated', 'firmly', 'inscribed', 'damped', 'disabled', 'diffused', 'inculpated', 'touzled', 'short.', 'courtesied', 'appreciated', 'bristled', 'Murdered', 'overthrew', 'drowned', 'welcome', 'opened', 'rescued', 'jingled', 'luck', 'battled', 'grafted', 'verged', 'bejeweled', 'interlaced', 'debated', 'honied', 'impassioned', 'pricked', 'met.', 'harmonized', 'fade', 'perused', 'prevent', 'stipulated', 'heard', 'refreshed', 'speculated', 'haven', 'exceeded', 'pretended', 'refunded', 'informed', 'tapestried', 'depraved', 'emphasised', 'united', 'regretted', 'sketched', 'announced', 'clothed', 'durst', 'beamed', 'darted', 'said.', 'wailed', 'Offered', 'thrived', 'coiled', 'slowly', 'lay', 'reposed', 'formed', 'roved', 'wouldn', 'plucked', 'intoned', 'dished', 'ran', 'twinkled', 'muddle', 'skewered', 'told', 'printed', 'pictured', 'stationed', 'burst', 'defined', 'adjoined', 'retraced', 'avenged', 'bedded', 'threaded', 'pumped', 'protracted', 'relapsed', 'welcomed', 'unmolested', 'bite', 'gleamed', 'betook', 'arose', 'intrusted', 'destined', 'unburdened', 'liberated', 'rolled', 'bred', 'shrouded', 'rallied', 'remarked', 'circumstanced', 'relished', 'insinuated', 'mouthed', 'knocked', 'hoarded', 'superintended', 'outnumbered', 'ribboned', 'skilled', 'minded', 'oblige', 'Deuced', 'interviewed', 'bleared', 'deepened', 'endeavored', 'looked.', 'squealed', 'learned', 'included', 'broached', 'cockered', 'perfected', 'disheartened', 'quoted', 'shuts', 'stood', 'barbed', 'established', 'screwed', 'perverted', 'heerd', 'thereat', 'card', 'kilted', 'humoured', 'lavished', 'unrolled', 'solved', 'trudged', 'sore', 'estranged', 'dwelt', 'streamed', 'robbed', 'unbuttoned', 'dogged', 'fitted', 'jogged', 'upraised', 'sorrowed', 'hurled', 'Smashed', 'contemned', 'drudged', 'ratted', 'seated', 'bowed', 'patronized', 'veered', 'insisted', 'poked', 'despised', 'instilled', 'height', 'gilded', 'sprinkled', 'buried', 'repented', 'armed', 'delivered', 'slaughtered', 'hooked', 'groped', \"b'iled\", 'bought', 'disappointed', 'tolerated', 'realized', 'swelled', 'idealised', 'interposed', 'ranked', 'bellowed', 'upright', 'reacted', 'weight', 'handled', 'restricted', 'raved', 'devised', 'bareheaded', 'judged', 'aforesaid', 'designated', 'wavered', 'vouchsafed', 'bwought', 'heightened', 'coved', 'incurred', 'hold', 'bet', 'reverenced', 'escorted', 'fled', 'amassed', 'gat', 'stool', 'sentenced', 'badged', 'shadowed', 'maintained', 'mishandled', 'fell', 'revelled', 'bridled', 'sunlight', 'encountered', 'decked', 'sighed', 'pranked', 'represented', 'strived', 'grumbled', 'reputed', 'lengthened', 'headed', 'hurt', 'knowed', 'reentered', 'seconded', 'reasoned', 'staked', 'attributed', 'bided', 'mapped', 'doublecased', 'brimmed', 'twanged', 'cocked', 'embraced', 'skulks', 'played', 'receded', 'enlightened', 'timbered', 'Touched', 'blazoned', 'maimed', 'pasquinaded', 'slashed', 'tis', 'Won', 'shone', 'surprised', 'Resigned', 'uttered', 'flickered', 'recognised', 'loitered', 'handed', 'hath', 'sleeked', 'whenas', 'gossiped', 'flopped', 'drove', 'bricked', 'driven', 'toiled', 'tenanted', 'my-lorded', 'downed', 'quenched', 'posed', 'fiddled', 'mopped', 'contested', 'haired', 'struck', 'released', 'tolled', 'barred', 'apprised', 'didn', 'corner', 'abovehead', 'distorted', 'wish', 'drownded', 'LXVIII', 'wed', 'waited', 'forbade', 'cropped', 'disconcerted', 'tanned', 'exaggerated', 'tie', 'purported', 'aged', 'quited', 'ushered', 'sculptured', 'visited', 'undisturbed', 'survived', 'abided', 'produced', 'accumulated', 'hungered', 'humiliated', 'marshalled', 'Let', 'overshadowed', 'dusted', 'burned', 'canopied', 'herseemed', 'recollected', 'triumphed', 'dashed', 'acted', 'contemplated', 'surged', 'wicked', 'tamed', 'hurried', 'fenced', 'retied', 'calmed', 'cascaded', 'wooded', 'unprovoked', 'staggered', 'transfigured', 'summon', 'foremost', 'deprived', 'buttered', 'phrased', 'propitiated', 'splayed', 'slipped', 'hundred', 'pervade', 'sublimated', 'instituted', 'predicted', 'chilled', 'abstracted', 'wept', 'soothed', 'angled', 'winnowed', 'dismissed', 'subdued', 'crunched', 'paired', 'exhibited', 'whitened', 'disturbed', 'upset', 'bosom', 'learnt', 'renewed', 'compounded', 'angered', 'vacated', 'pinioned', 'suppose', 'desolated', 'guarded', 'gorged', 'tinted', 'twirled', 'concerted', 'round', 'inflicted', 'gingled', 'foraged', 'smelled', 'adapted', 'pursed', 'kicked', 'Achmet', 'balked', 'viewed', 'overstepped', 'encircled', 'discovered', 'confined', 'exploded', 'prigged', 'underrated', 'melancholy', 'reached', 'scented', 'dared', 'engendered', 'discerned', 'protected', 'clouded', 'uplifted', 'rued', 'unsettled', 'reviewed', 'stewed', 'looked', 'unquenched', 'circumscribed', 'patched', 'neared', 'suspended', 'slept', 'entangled', 'bothered', 'differed', 'indulged', 'promised', 'help', 'crumbled', 'hoodwinked', 'widened', 'bruised', 'herded', 'helped', 'sha', 'extricated', 'pattered', 'vibrated', 'exerted', 'sheered', 'dispensed', 'anchored', 'cautioned', 'hideth', 'helmed', 'contrasted', 'alighted', 'wronged', 'XL', 'parted', 'address', 'attached', 'lightened', 'stated', 'buzzed', 'caused', 'bethink', 'feared', 'expelled', 'naked', 'Left', 'twiddled', 'attained', 'brooded', 'trundled', 'invalided', 'ducked', 's', 'glinted', 'idled', 'jawed', 'chid', 'scrawled', 'disobeyed', 'travestied', 'hasn', 'wainscotted', 'agonised', 'bunged', 'weaned', 'signalled', 'dripped', 'replied', 'fair', 'addressed', 'shed', 'blessed', 'dulled', 'bow', 'placed', 'bolted', 'reiterated', 'XVIII', 'taunted', 'suggests.', 'reseated', 'specked', 'abbreviated', 'besprinkled', 'was.', 'capped', 'believed', 'cut', 'Added', 'reversed', 'stole', 'cushioned', 'telegraphed', 'braved', 'repaired', 'tended', 'sulked', 'construed', 'labeled', 'omitted', 'pampered', 'floated', 'creaked', 'provided', 'environed', 'miss', 'proceeded', 'commenced', 'arrived', 'half', 'moved', \"a'most\", 'fatigued', 'thronged', 'healed', 'shoved', 'crowded', 'impinged', 'downcast', 'complimented', 'curved', 'curtsied', 'distributed', 'shuttered', 'licked', 'obscene', 'invoked', 'lolled', 'combined', 'invented', 'wanted.', 'untied', 'littered', 'pin', 'marry', 'boomed', 'whipped', 'writhed', 'caracoled', 'dight', 'leaked', 'assumed', 'unfinished', 'hoed', 'approached', 'wore', 'ridiculed', 'commanded', 'swore', 'moistened', 'described', 'teased', 'illumined', 'provoked', 'dug', 'reaped', 'hammered', 'born', 'eked', 'tracked', 'encroached', 'cooked', 'recurred', 'Escaped', 'illustrated', 'savoured', 'forgive', 'tugged', 'lackered', 'snorted', 'elicited', 'undistinguished', 'tilted', 'advised', 'striped', 'imprinted', 'worried', 'fight', 'related', 'exulted', 'glared', 'calculated', 'travelled', 'prevented', 'crackled', 'nonsense', 'came', 'changed', 'quavered', 'moralised', 'courted', 'meant', 'calm', 'croaked', 'intoxicated', 'reeked', 'paced', 'overspread', 'wretched', 'depended', 'waded', 'Studied', 'bubbled', 'scattered', 'whatever', 'loaded', 'resigned', 'fed', 'excepted', 'belied', 'linked', 'cometh', 'Had', 'counselled', 'bear', 'alights', 'puffed', 'dined', 'wrapped', 'brandished', 'teemed', 'screened', 'exonerated', 'skirted', 'combed', 'tied', 'relied', 'replaced', 'revolted', 'so', 'slewed', 'lacked', 'esteemed', 'fixed', 'redeemed', 'rifled', 'plied', 'exalted', 'congealed', 'pasted', 'injured', 'dreamt', 'offended', 'starved', 'flourished', 'enveloped', 'dabbled', 'solemnized', 'retained', 'rumbled', 'accomplished', 'fallen', 'snarled', 'yawned', 'hoards', 'thrilled', 'shade', 'crowed', 'answered.', 'wi', 'hitherto', 'spent', 'rebelled', 'blighted', 'flesh', 'surrounded', 'possessed', 'embroidered', 'deemed', 'stunted', 'decimated', 'hast', 'trod', 'reeled', 'vamped', 'curtseyed', 'crowned', 'languished', 'evinced', 'dispatched', 'Convinced', 'did.', 'beseech', 'metamorphosed', 'wondered', 'gulped', 'faults', 'dimpled', 'levelled', 'terminated', 'stored', 'outraged', 'kindled', 'projected', 'centred', 'fascinated', 'skulked', 'XLVIII', 'pained', 'delight', 'dissatisfied', 'excited', 'washed', 'dipped', 'thought', 'wound', 'whitewashed', 'darned', 'frightened', 'multiplied', 'burden', 'sniffs', 'shocked', 'blameworthy', 'crashed', 'appeased', 'lisped', 'rejoiced', 'bent', 'resisted', 'retired', 'abandoned', 'grew', 'reclined', 'unladed', 'hung', 'accommodated', 'readjusted', 'asseverated', 'sober', 'fused', 'claim', 'swopped', 'runned', 'knotted', 'proposed', 'occasioned', 'hankered', 'reproached', 'transpired', 'edified', 'gambolled', 'humbled', 'habited', 'detested', 'paused', 'emended', 'strung', 'thundered', 'unbent', 'clamored', 'dressed', 'brayed', 'drenched', 'flowered', 'pleased', 'XXXVIII', 'daunted', 'builded', 'smashed', 'softened', 'X', 'recited', 'steeled', 'founded', 'swirls', 'developed', 'unlatched', 'sprung', 'locked', 'dislocated', 'appeared', 'performed', 'Baffled', 'seeded', 'laid', 'adorned', 'tried', 'swept', 'encrusted', 'toddled', 'entrap', 'intensified', 'suffered', 'enticed', 'acquired', 'rustled', 'unchecked', 'soared', 'exagerated', 'enlisted', 'spelled', 'sir', 'quoth', 'XXXV', 'smoke', 'trembled', 'Read', 'accounted', 'denoted', 'boxed', 'fetched', 'pertained', 'scratched', 'compensated', 'knelt', 'went', 'irritated', 'electrified', 'piled', 'cultured', 'tailed', 'transmitted', 'mistaken', 'unclasped', 'shrugged', 'committed', 'resolved', 'Found', 'ached', 'shifted', 'pulsed', 'stop', 'exasperated', 'argued', 'pent', 'achieved', 'benumbed', 'wot', 'eyed', 'refrained', 'fret', 'Drew', 'reremoved', 'quaffed', 'sheared', 'puzzle', 'sped', 'damaged', 'watered', 'entailed', 'smiled', 'grated', 'spotted', 'quitted', 'horrid', 'haggled', 'Apprised', 'manifested', 'nestled', 'awoke', 'employed', 'filtered', 'gravitated', 'built', 'adjusted', 'forgathered', 'adored', 'went.', 'beg', 'reassembled', 'dissuaded', 'unnerved', 'interpreted', 'unbounded', 'd', 'beguiled', 'taught', 'exhausted', 'galloped', 'magnetised', 'persuade', 'chastised', 'distinguished', 'examined', 'flitted', 'midsummer', 'experienced', 'introduced', 'annoyed', 'clad', 'hallowed', 'urged', 'apologised', 'unkenned', 'dismayed', 'doffed', 'sewed', 'dejected', 'died', 'thawed', 'sharpened', 'broke', 'breakfasted', 'ground', 'mentioned', 'cleaned', 'stinted', 'interpenetrated', 'naysaid', 'imprisoned', 'whilst', 'yes', 'retorted', 'avowed', 'hauled', 'captured', 'launched', 'ripened', 'Peopled', 'baffled', 'Pulled', 'sold', 'guided', 'leered', 'whispered', 'coloured', 'irked', 'Unchanged', 'agitated', 'infused', 'hearkened', 'hang', 'flamed', 'wounded', 'fortified', 'averted', 'astonished', 'enlarged', 'feasted', 'responded', 'sequestrated', 'cogitated', 'servest', 'blast', 'trilled', 'ensnared', 'anigh', 'kneeled', 'sounded', 'snatched', 'called', 'satisified', 'intrigued', 'flattened', 'letted', 'crooned', 'foddered', 'flushed', 'shouldn', 'lived', 'complied', 'associated', 'smoothed', 'burnished', 'secluded', 'ploughed', 'topped', 'manufactured', 'revived', 'enjoyed', 'wearied', 'loomed', 'stranger', 'thee', 'prevailed', 'mortgaged', 'praised', 'took', 'hissed', 'thrust', 'interchanged', 'dwindled', 'cracked', 'link', 'abode', 'nursed', 'beloved', 'crammed', 'gifted', 'sleekened', 'connected', 'hummed', 'complained', 'expostulated', 'unhorsed', 'trifled', 'XLV', 'tempted', 'emancipated', 'jarred', 'stunned', 'disbelieved', 'vanquished', 'does.', 'dimmed', 'did', 'rented', 'disparaged', 'retreated', 'memorialised', 'fretted', 'named', 'emaciated', 'cuffed', 'sniffed', 'entertained', 'knitted', 'wished', 'frowned', 'hight', 'wotted', 'spared', 'sympathized', 'closeted', 'sorry', 'attired', 'ate', 'allied', 'spoken', 'mislead', 'condescended', 'depressed', 'made', 'repressed', 'light', 'XXXII', 'snuffed', 'presently.', 'woke', 'enriched', 'dominated', 'blew', 'till', 'fared', 'listened', 'declared', 'spiked', 'silken', 'congratulated', 'sixpence', 'dighted', 'reawakened', 'opposed', 'chaffered', 'commemorated', 'extinguished', 'crept', 'belated', 'endeared', 'peppered', 'couldn', 'reckoned', 'was', 'cherished', 'varnished', 'ejaculated', 'deserted', 'superseded', 'lowered', 'sit', 'strained', 'intersected'}\n"
     ]
    }
   ],
   "source": [
    "\n",
    "import re\n",
    "import nltk\n",
    "import numpy as np\n",
    "from nltk.tokenize import word_tokenize\n",
    "\n",
    "\n",
    "with open('en.txt', 'r',encoding='utf8') as f:\n",
    "    content_eng = f.read()\n",
    "\n",
    "temp = re.sub(r'—', ' ', content_eng)  # '—' in this file was used to connecting sentences\n",
    "temp = re.sub(r'[`´]', \"'\", temp) #replace uncommon characters \n",
    "temp = re.sub(r'[“”]', '\"',temp)\n",
    "filter_content = re.sub(r\"(?<![a-zA-Z])\\'\", \"' \", temp)\n",
    "\n",
    "tokens_eng = word_tokenize(filter_content)\n",
    "tagged_eng = nltk.pos_tag(tokens_eng)\n",
    "pres_eng = {word for word, tag in tagged_eng if tag in {'VBP', 'VBZ'}} \n",
    "past_eng = {word for word, tag in tagged_eng if tag == 'VBD'} \n",
    "print(f'Words in present tense:\\n{pres_eng}')\n",
    "print(f'Word in past tense:\\n{past_eng}')"
   ]
  },
  {
   "cell_type": "code",
   "execution_count": null,
   "id": "8734eaf8",
   "metadata": {},
   "outputs": [],
   "source": [
    "import stanza\n",
    "stanza.download('es')\n",
    "spa_lmodel = stanza.Pipeline(lang='es',processors='tokenize,mwt,pos')"
   ]
  },
  {
   "cell_type": "code",
   "execution_count": null,
   "id": "a3693d92-c938-4de7-a2f7-76a03b5785fb",
   "metadata": {},
   "outputs": [],
   "source": [
    "# Obtain words in present tense and in past tense from a spanish corpus\n",
    "with open('sp.txt', 'r',encoding='utf8') as f:\n",
    "    content_spa = f.read()\n",
    "sub_spa = content_spa[:500000]   #the amount of data in sp.txt is too large and takes too much time to process, so I used a subset\n",
    "tagged_spa = spa_lmodel(sub_spa)\n",
    "pres_spa = {word.text for sent in tagged_spa.sentences for word in sent.words if word.upos == 'VERB' and 'Pres' in word.feats}\n",
    "past_spa = {word.text for sent in tagged_spa.sentences for word in sent.words if word.upos == 'VERB' and 'Past' in word.feats}\n",
    "print(f'Words in present tense:\\n{pres_spa}')\n",
    "print(f'Word in past tense:\\n{past_spa}')"
   ]
  },
  {
   "cell_type": "code",
   "execution_count": null,
   "id": "b541668e-e1b5-4dcb-a338-20b5117af008",
   "metadata": {},
   "outputs": [],
   "source": [
    "stanza.download('sv')\n",
    "swe_lmodel = stanza.Pipeline(lang='sv',processors='tokenize,lemma,pos')"
   ]
  },
  {
   "cell_type": "code",
   "execution_count": null,
   "id": "768f199a",
   "metadata": {},
   "outputs": [],
   "source": [
    "# Obtain words in present tense and in past tense from a swedish corpus\n",
    "with open('swe.txt', 'r',encoding='utf8') as f:\n",
    "    content_swe = f.read()\n",
    "sub_swe = content_swe[:500000]  #the amount of data in sp.txt is too large and takes too much time to process, so I used a subset\n",
    "tagged_swe = swe_lmodel(sub_swe)\n",
    "pres_swe = {word.text for sent in tagged_swe.sentences for word in sent.words if word.upos == 'VERB' and 'Pres' in word.feats}\n",
    "past_swe = {word.text for sent in tagged_swe.sentences for word in sent.words if word.upos == 'VERB' and 'Past' in word.feats}\n",
    "print(f'Words in present tense:\\n{pres_swe}')\n",
    "print(f'Word in past tense:\\n{past_swe}')"
   ]
  },
  {
   "cell_type": "markdown",
   "id": "ffac1536-1314-405e-8a4e-a3024ed19c63",
   "metadata": {},
   "source": [
    "## Part 2 (Language Models) -Train a language recognizer using character bigrams (pairs of adjacent characters)"
   ]
  },
  {
   "cell_type": "code",
   "execution_count": null,
   "id": "0c9623bc-f4b9-46ee-8402-d7ed5460f399",
   "metadata": {},
   "outputs": [],
   "source": [
    "from math import prod\n",
    "def model_gen(content):\n",
    "    bigrams = nltk.bigrams(content.lower())\n",
    "    cfd = nltk.ConditionalFreqDist(bigrams)\n",
    "    cpd = nltk.ConditionalProbDist(cfd, nltk.MLEProbDist)\n",
    "    return cpd\n",
    "cpd_eng = model_gen(content_eng)\n",
    "cpd_spa = model_gen(content_spa)\n",
    "cpd_swe = model_gen(content_swe)"
   ]
  },
  {
   "cell_type": "code",
   "execution_count": 12,
   "id": "eddf963f",
   "metadata": {},
   "outputs": [
    {
     "name": "stdout",
     "output_type": "stream",
     "text": [
      "Probability of being English: 8.198576282955312e-118\n",
      "Probability of being Spanish: 2.7844844654332315e-159\n",
      "Probability of being Swedish: 5.16785490688622e-151\n",
      "The sentence is predicted as English\n"
     ]
    }
   ],
   "source": [
    "def probability_lan(sentence, cpd):\n",
    "    sentence1 = sentence.lower()\n",
    "    prob = prod([cpd[bigram[0]].prob(bigram[1]) for bigram in nltk.bigrams(sentence1)])\n",
    "    return prob\n",
    "\n",
    "def predict_lan(sentence):\n",
    "    prob_eng = probability_lan(sentence, cpd_eng)\n",
    "    prob_spa = probability_lan(sentence, cpd_spa)\n",
    "    prob_swe = probability_lan(sentence, cpd_swe)\n",
    "    prob_dic = {'English': prob_eng, 'Spanish': prob_spa, 'Swedish': prob_swe}\n",
    "    return max(prob_dic, key = prob_dic.get)\n",
    "\n",
    "sample = \"If I seem to speak exultantly, it is only because my intellect enjoys the clear perception of a fact.\"\n",
    "print(f'Probability of being English: {probability_lan(sample, cpd_eng)}')\n",
    "print(f'Probability of being Spanish: {probability_lan(sample, cpd_spa)}')\n",
    "print(f'Probability of being Swedish: {probability_lan(sample, cpd_swe)}')\n",
    "print(f'The sentence is predicted as {predict_lan(sample)}')\n"
   ]
  },
  {
   "cell_type": "code",
   "execution_count": null,
   "id": "90078982-d0ec-4881-9bc2-afa6b46101b6",
   "metadata": {},
   "outputs": [
    {
     "name": "stdout",
     "output_type": "stream",
     "text": [
      "The probaility of \"When the servant came to clear the table, he strolled slowly away, humming a tune.\" being each language:\n",
      "English: 2.656259539002828e-85\n",
      "Spanish: 1.626768685798974e-113\n",
      "Swedish: 4.480884354010982e-109\n",
      "Hence, this sentence is predicted as English.\n",
      "\n",
      "The probaility of \"Parecía como si se hubiera frotado la cara con grana de coscoja.\" being each language:\n",
      "English: 0.0\n",
      "Spanish: 4.352887600804348e-62\n",
      "Swedish: 0.0\n",
      "Hence, this sentence is predicted as Spanish.\n",
      "\n",
      "The probaility of \"Det var patron Kristersons. Hvad de voro vackra!\" being each language:\n",
      "English: 1.287056093138343e-67\n",
      "Spanish: 2.3824781792748216e-63\n",
      "Swedish: 7.936278448034972e-51\n",
      "Hence, this sentence is predicted as Swedish.\n",
      "\n"
     ]
    }
   ],
   "source": [
    "#Examples\n",
    "sent1 = 'When the servant came to clear the table, he strolled slowly away, humming a tune.'\n",
    "sent2 = 'Parecía como si se hubiera frotado la cara con grana de coscoja.'\n",
    "sent3 = 'Det var patron Kristersons. Hvad de voro vackra!'\n",
    "\n",
    "print(f'The probaility of \"{sent1}\" being each language:\\nEnglish: {probability_lan(sent1, cpd_eng)}\\nSpanish: {probability_lan(sent1, cpd_spa)}\\nSwedish: {probability_lan(sent1, cpd_swe)}' )\n",
    "print(f'Hence, this sentence is predicted as {predict_lan(sent1)}.\\n')\n",
    "print(f'The probaility of \"{sent2}\" being each language:\\nEnglish: {probability_lan(sent2, cpd_eng)}\\nSpanish: {probability_lan(sent2, cpd_spa)}\\nSwedish: {probability_lan(sent2, cpd_swe)}' )\n",
    "print(f'Hence, this sentence is predicted as {predict_lan(sent2)}.\\n')\n",
    "print(f'The probaility of \"{sent3}\" being each language:\\nEnglish: {probability_lan(sent3, cpd_eng)}\\nSpanish: {probability_lan(sent3, cpd_spa)}\\nSwedish: {probability_lan(sent3, cpd_swe)}' )\n",
    "print(f'Hence, this sentence is predicted as {predict_lan(sent3)}.\\n')\n",
    "\n",
    "#not good enough, did not perform well at unknown bigrams"
   ]
  },
  {
   "cell_type": "markdown",
   "id": "e27a84be-7ddb-49db-af4d-45fda6c8634b",
   "metadata": {},
   "source": [
    "## Part 3 (Minimum Edit Distance)"
   ]
  },
  {
   "cell_type": "code",
   "execution_count": null,
   "id": "fc2725f7-b0db-41e6-8494-1528de2d500d",
   "metadata": {},
   "outputs": [
    {
     "data": {
      "text/plain": [
       "2.0"
      ]
     },
     "execution_count": 2,
     "metadata": {},
     "output_type": "execute_result"
    }
   ],
   "source": [
    "# implementation of Minimum Edit Distance.\n",
    "ops=['i','d','s']\n",
    "\n",
    "def MED(src_str,trg_str):\n",
    "    src_str = \"#\"+src_str\n",
    "    trg_str = \"#\"+trg_str\n",
    "    \n",
    "    ins_cost = 1\n",
    "    del_cost = 1\n",
    "    sub_cost = 2\n",
    "    \n",
    "    m = len(src_str)\n",
    "    n = len(trg_str)\n",
    "    \n",
    "    #INITIALIZE DISTANCE MATRIX WITH ZEROS\n",
    "    distance_matrix = np.zeros((n,m))\n",
    "\n",
    "    #INITIALIZE COLUMN 0 VALUES\n",
    "    distance_matrix [:,0] = np.arange(0,n,del_cost)\n",
    "    #INITIALIZE ROW 0 VALUES\n",
    "    distance_matrix [0,:] = np.arange(0,m,ins_cost)    \n",
    "    \n",
    "    for i in range(1,n): #each column\n",
    "        for j in range(1,m): #each row\n",
    "            insert = distance_matrix[i-1,j] + ins_cost\n",
    "            delete = distance_matrix[i,j-1] + del_cost\n",
    "            if src_str[j]==trg_str[i]:\n",
    "                substi = distance_matrix[i-1,j-1]\n",
    "            else:\n",
    "                substi = distance_matrix[i-1,j-1] + sub_cost\n",
    "\n",
    "            distance_matrix[i,j] = min([insert,delete,substi])\n",
    "            which_op = np.argmin([insert,delete,substi])\n",
    "    \n",
    "    #RETURN THE LAST ELEMENT\n",
    "    return distance_matrix[-1,-1]\n",
    "\n",
    "MED(\"PRNAP\",\"PAP\")"
   ]
  },
  {
   "cell_type": "code",
   "execution_count": null,
   "id": "1fc410c9-2c17-4eb1-ae9b-01f494ac27a1",
   "metadata": {},
   "outputs": [
    {
     "name": "stdout",
     "output_type": "stream",
     "text": [
      "Minimum Edit Distance: 8.0\n",
      "alignment: ['d', 'd', 'd', '-', 'd', 'i', 'i', 'i', 'i', '-', '-', '-', '-']\n"
     ]
    }
   ],
   "source": [
    "#Return one valid alignment using MED\n",
    "ops=['i','d','s']\n",
    "def MED_alignment(src_str, trg_str):\n",
    "    src_str = \"#\"+src_str\n",
    "    trg_str = \"#\"+trg_str\n",
    "    \n",
    "    ins_cost = 1\n",
    "    del_cost = 1\n",
    "    sub_cost = 2\n",
    "    \n",
    "    m = len(src_str)\n",
    "    n = len(trg_str)\n",
    "    \n",
    "    #INITIALIZE DISTANCE MATRIX WITH ZEROS\n",
    "    distance_matrix = np.zeros((n,m))\n",
    "\n",
    "    #INITIALIZE COLUMN 0 VALUES\n",
    "    distance_matrix [:,0] = np.arange(0,n,del_cost)\n",
    "    #INITIALIZE ROW 0 VALUES\n",
    "    distance_matrix [0,:] = np.arange(0,m,ins_cost)\n",
    "    \n",
    "    bck = np.zeros((n,m),dtype=str)\n",
    "    bck[1:,0] = 'i'\n",
    "    bck[0,1:] = 'd'\n",
    "    \n",
    "    for i in range(1,n): #each column\n",
    "        for j in range(1,m): #each row\n",
    "            insert = distance_matrix[i-1,j] + ins_cost\n",
    "            delete = distance_matrix[i,j-1] + del_cost\n",
    "            if src_str[j]==trg_str[i]:\n",
    "                substi = distance_matrix[i-1,j-1]\n",
    "            else:\n",
    "                substi = distance_matrix[i-1,j-1] + sub_cost\n",
    "\n",
    "            distance_matrix[i,j] = min([insert,delete,substi])\n",
    "            which_op = np.argmin([insert,delete,substi])\n",
    "            bck[i,j] = ops[which_op]\n",
    "            if bck[i,j] == 's' and src_str[j]==trg_str[i]:    \n",
    "                bck[i,j] = '-'\n",
    "            #print (distance_matrix[i,j],i,j, \"-\",insert,delete,substi, ops[which_op])  \n",
    "\n",
    "    alignment = []\n",
    "    i, j = n-1, m-1\n",
    "    while i > 0 or j > 0:\n",
    "        alignment.append(bck[i, j])\n",
    "        if bck[i, j] == 'i':\n",
    "            i -= 1\n",
    "        elif bck[i, j] == 'd':\n",
    "            j -= 1\n",
    "        else:\n",
    "            i -= 1\n",
    "            j -= 1\n",
    "    alignment.reverse()\n",
    "            \n",
    "    return alignment\n",
    "\n",
    "alignment= MED_alignment(\"intention\",\"execution\")\n",
    "distance = MED(\"intention\",\"execution\")\n",
    "print(f'Minimum Edit Distance: {distance}')\n",
    "print(f'alignment: {alignment}')"
   ]
  },
  {
   "cell_type": "code",
   "execution_count": null,
   "id": "d5eeeaa7-0f54-427f-a406-3aa9b15763c5",
   "metadata": {},
   "outputs": [
    {
     "name": "stdout",
     "output_type": "stream",
     "text": [
      "Present -> Past        MED   Alignment\n",
      "forget     forgot      2.0   ['-', '-', '-', '-', 'd', 'i', '-']\n",
      "eat        ate         2.0   ['d', '-', '-', 'i']\n",
      "looks      looked      3.0   ['-', '-', '-', '-', 'd', 'i', 'i']\n",
      "changes    changed     2.0   ['-', '-', '-', '-', '-', '-', 'd', 'i']\n",
      "como       comí        2.0   ['-', '-', '-', 'd', 'i']\n",
      "viene      vino        3.0   ['-', '-', 'd', '-', 'd', 'i']\n",
      "dicen      dijeron     4.0   ['-', '-', 'd', 'i', '-', 'i', 'i', '-']\n",
      "conducen   condujeron  4.0   ['-', '-', '-', '-', '-', 'd', 'i', '-', 'i', 'i', '-']\n",
      "läser      läste       2.0   ['-', '-', '-', 'i', '-', 'd']\n",
      "säger      sade        5.0   ['-', 'd', 'd', 'i', 'i', '-', 'd']\n",
      "talar      talade      3.0   ['-', '-', '-', '-', 'd', 'i', 'i']\n",
      "stannar    stannade    3.0   ['-', '-', '-', '-', '-', '-', 'd', 'i', 'i']\n"
     ]
    }
   ],
   "source": [
    "#using MED_Alignment to see the difference between presnt tense an past tense\n",
    "word_pairs = [['forget', 'forgot'], ['eat', 'ate'],['looks', 'looked'], ['changes', 'changed'], \n",
    "              ['como', 'comí'], ['viene', 'vino'], ['dicen', 'dijeron'], ['conducen', 'condujeron'],\n",
    "              ['läser', 'läste'], ['säger', 'sade'], ['talar', 'talade'], ['stannar', 'stannade']]\n",
    "\n",
    "print(f\"Present -> Past{' '*8}MED{' '*3}Alignment\")\n",
    "\n",
    "for i in range(12):\n",
    "    present = word_pairs[i][0]\n",
    "    past = word_pairs[i][1]\n",
    "    distances = MED(present, past)\n",
    "    alignment = MED_alignment(present, past)\n",
    "    print(f\"{present:<11}{past:<12}{distances:<6}{alignment}\")\n"
   ]
  },
  {
   "cell_type": "markdown",
   "id": "95e2d801-142d-4d26-b299-740726ed6b91",
   "metadata": {},
   "source": [
    "## Part 4 (Sentiment Analysis-The Naive Bayes model)\n"
   ]
  },
  {
   "cell_type": "code",
   "execution_count": 18,
   "id": "a21a5953-6f59-4bd5-90f2-c569b2e08874",
   "metadata": {},
   "outputs": [],
   "source": [
    "import os\n",
    "import numpy as np\n",
    "import random"
   ]
  },
  {
   "cell_type": "code",
   "execution_count": 19,
   "id": "af3d3ac0-963c-45a7-aa49-6d9ea798d283",
   "metadata": {},
   "outputs": [],
   "source": [
    "def filetowordlist(path, sfx):\n",
    "    words = []\n",
    "    for item in sorted(os.listdir(path)):    \n",
    "        if sfx in item:\n",
    "            f=open(path + item, encoding=\"iso8859-1\")\n",
    "            lines = [line.strip() for line in f]\n",
    "            f.close()\n",
    "            wordsinfile = []\n",
    "            for l in lines:\n",
    "                sentencewords = l.split()\n",
    "                wordsinfile = wordsinfile + sentencewords\n",
    "            words.append(wordsinfile)\n",
    "    return words\n",
    "\n",
    "def log(number):\n",
    "    return np.log(number)"
   ]
  },
  {
   "cell_type": "code",
   "execution_count": 20,
   "id": "5836ebc2-443d-425a-99e7-c2430e4979b0",
   "metadata": {},
   "outputs": [],
   "source": [
    "#Change the directory below\n",
    "#Put the directory where you downloaded the corpus\n",
    "posreviews_all = filetowordlist(\"/Users/charlottexx/Downloads/Assigment 2/mix20_rand700_tokens_0211/tokens/pos/\", \".txt\")\n",
    "negreviews_all = filetowordlist(\"/Users/charlottexx/Downloads/Assigment 2/mix20_rand700_tokens_0211/tokens/neg/\", \".txt\")"
   ]
  },
  {
   "cell_type": "code",
   "execution_count": null,
   "id": "24b02456-ed71-41e1-98a9-c860223d425b",
   "metadata": {},
   "outputs": [],
   "source": [
    "#training data\n",
    "posreviews_train = posreviews_all[:550]\n",
    "negreviews_train = negreviews_all[:550]\n",
    "\n",
    "#test data\n",
    "posreviews_test  = posreviews_all[550:]\n",
    "negreviews_test  = negreviews_all[550:]"
   ]
  },
  {
   "cell_type": "code",
   "execution_count": null,
   "id": "d21466af-1ecd-4d63-afc6-facb7f052e7a",
   "metadata": {},
   "outputs": [
    {
     "data": {
      "text/plain": [
       "(550, 550, 144, 142)"
      ]
     },
     "execution_count": 22,
     "metadata": {},
     "output_type": "execute_result"
    }
   ],
   "source": [
    "#the number of positive and negative reviews in each of the portions of the data (train and test)\n",
    "len(posreviews_train), len(negreviews_train),len(posreviews_test), len(negreviews_test)"
   ]
  },
  {
   "cell_type": "code",
   "execution_count": null,
   "id": "56b5fb30-df15-460e-9581-56d20038d665",
   "metadata": {},
   "outputs": [],
   "source": [
    "#two lists with all words in each group of reviews\n",
    "#poswords_train contains a list of words, with concatenated positive reviews\n",
    "poswords_train=[word for sent in posreviews_train for word in sent]\n",
    "negwords_train=[word for sent in negreviews_train for word in sent]"
   ]
  },
  {
   "cell_type": "code",
   "execution_count": 26,
   "id": "8b0a5957-201f-4004-89d1-977c0158793b",
   "metadata": {},
   "outputs": [],
   "source": [
    "#Vocabularies for positive and negative reviews\n",
    "pos_vocab_train = set(poswords_train)\n",
    "neg_vocab_train = set(negwords_train)\n",
    "vocab_train = pos_vocab_train.union(neg_vocab_train)\n",
    "\n",
    "#Number of types (vocabulary size)\n",
    "pos_vocab_size_train = len(pos_vocab_train)\n",
    "neg_vocab_size_train = len(neg_vocab_train)\n",
    "vocab_size_train = len(vocab_train)\n",
    "\n",
    "#Number of words (tokens)\n",
    "noposwords_train=len(poswords_train)\n",
    "nonegwords_train=len(negwords_train)\n",
    "\n",
    "#Number of reviews\n",
    "noposreviews_train=len(posreviews_train)\n",
    "nonegreviews_train=len(negreviews_train)"
   ]
  },
  {
   "cell_type": "code",
   "execution_count": 30,
   "id": "11273b30-5d34-466e-8e5f-5ef206cbeaad",
   "metadata": {},
   "outputs": [
    {
     "data": {
      "text/plain": [
       "(27813, 445289, 550)"
      ]
     },
     "execution_count": 30,
     "metadata": {},
     "output_type": "execute_result"
    }
   ],
   "source": [
    "pos_vocab_size_train,noposwords_train,noposreviews_train"
   ]
  },
  {
   "cell_type": "code",
   "execution_count": 31,
   "id": "376b6173-0bbb-4fca-ac70-27d37e9485d9",
   "metadata": {},
   "outputs": [
    {
     "data": {
      "text/plain": [
       "(1.6094379124341003, 0.6989700043360189)"
      ]
     },
     "execution_count": 31,
     "metadata": {},
     "output_type": "execute_result"
    }
   ],
   "source": [
    "log(5),np.log10(5)"
   ]
  },
  {
   "cell_type": "code",
   "execution_count": null,
   "id": "34767799-9812-42a3-8f37-58eea44be1f4",
   "metadata": {},
   "outputs": [
    {
     "name": "stdout",
     "output_type": "stream",
     "text": [
      "This is the log probability of a review to be positive:\n",
      "-0.6931471805599453\n",
      "This is the log probability of a review to be negative:\n",
      "-0.6931471805599453\n"
     ]
    }
   ],
   "source": [
    "#calculate proir probabilities\n",
    "prior_probabiolity_pos_train = log(noposreviews_train / (noposreviews_train + nonegreviews_train))\n",
    "prior_probabiolity_neg_train = log(nonegreviews_train / (noposreviews_train + nonegreviews_train))\n",
    "print (\"This is the log probability of a review to be positive:\")\n",
    "print (prior_probabiolity_pos_train)\n",
    "print (\"This is the log probability of a review to be negative:\")\n",
    "print (prior_probabiolity_neg_train)"
   ]
  },
  {
   "cell_type": "code",
   "execution_count": null,
   "id": "9b4ab4fe-54ac-40b4-a74e-23933f9e9c12",
   "metadata": {},
   "outputs": [
    {
     "name": "stdout",
     "output_type": "stream",
     "text": [
      "The word nice appears 118 times in the positive reviews\n",
      "The word nice appears 92 times in the negative reviews\n",
      "\n",
      "The word bad appears 223 times in the positive reviews\n",
      "The word bad appears 509 times in the negative reviews\n"
     ]
    }
   ],
   "source": [
    "from nltk import FreqDist\n",
    "\n",
    "pos_frequencies = FreqDist(poswords_train)\n",
    "neg_frequencies = FreqDist(negwords_train)\n",
    "\n",
    "print (\"The word nice appears \"+str(pos_frequencies[\"nice\"])+\" times in the positive reviews\")\n",
    "print (\"The word nice appears \"+str(neg_frequencies[\"nice\"])+\" times in the negative reviews\")\n",
    "print()\n",
    "\n",
    "print (\"The word bad appears \"+str(pos_frequencies[\"bad\"])+\" times in the positive reviews\")\n",
    "print (\"The word bad appears \"+str(neg_frequencies[\"bad\"])+\" times in the negative reviews\")\n"
   ]
  },
  {
   "cell_type": "code",
   "execution_count": null,
   "id": "6b0ffd3b-1078-4eea-9189-1d7f7e3acc67",
   "metadata": {},
   "outputs": [
    {
     "name": "stdout",
     "output_type": "stream",
     "text": [
      "The log probability of the word nice to appear in the positive reviews is: -8.310737353530826\n",
      "The log probability of the word nice to appear in the negative reviews is: -8.438475770037291\n",
      "\n",
      "The log probability of the word bad to appear in the positive reviews is: -7.678214794787315\n",
      "The log probability of the word bad to appear in the negative reviews is: -6.736664537472175\n"
     ]
    }
   ],
   "source": [
    "#estimate the probability of each word to appear in a positive review\n",
    "pos_logprobs = {}\n",
    "neg_logprobs = {}\n",
    "\n",
    "for word in vocab_train:\n",
    "    word_pos_count = pos_frequencies.get(word,0)\n",
    "    word_pos_prob = (word_pos_count + 1) / (noposwords_train + vocab_size_train)\n",
    "    pos_logprobs[word] = log(word_pos_prob)\n",
    "    \n",
    "    word_neg_count = neg_frequencies.get(word,0)\n",
    "    word_neg_prob = (word_neg_count + 1) / (nonegwords_train + vocab_size_train)\n",
    "    neg_logprobs[word] = log(word_neg_prob)\n",
    "\n",
    "print (\"The log probability of the word nice to appear in the positive reviews is: \"+str(pos_logprobs[\"nice\"]))\n",
    "print (\"The log probability of the word nice to appear in the negative reviews is: \"+str(neg_logprobs[\"nice\"]))\n",
    "\n",
    "print ()\n",
    "\n",
    "print (\"The log probability of the word bad to appear in the positive reviews is: \"+str(pos_logprobs[\"bad\"]))\n",
    "print (\"The log probability of the word bad to appear in the negative reviews is: \"+str(neg_logprobs[\"bad\"]))\n"
   ]
  },
  {
   "cell_type": "code",
   "execution_count": null,
   "id": "dbae6a01-e8af-44ec-b3c6-ede924624b83",
   "metadata": {},
   "outputs": [
    {
     "name": "stdout",
     "output_type": "stream",
     "text": [
      "The log probability of an out of vocabulary word in the positive reviews is:\n",
      "-13.089860846642354\n",
      "The log probability of an out of vocabulary word in the negative reviews is:\n",
      "-12.971075263190547\n"
     ]
    }
   ],
   "source": [
    "#handle out-of-vocabulary words, estimate the log probability of unseen words for both positive and negative classes in training set\n",
    "pos_oov_word_logprob = log(1 / (noposwords_train + vocab_size_train))\n",
    "neg_oov_word_logprob = log(1 / (nonegwords_train + vocab_size_train))\n",
    "\n",
    "print (\"The log probability of an out of vocabulary word in the positive reviews is:\")\n",
    "print (pos_oov_word_logprob)\n",
    "print (\"The log probability of an out of vocabulary word in the negative reviews is:\")\n",
    "print (neg_oov_word_logprob)"
   ]
  },
  {
   "cell_type": "code",
   "execution_count": null,
   "id": "d0e0c075-e15c-47ce-b528-c2c584b602e4",
   "metadata": {},
   "outputs": [],
   "source": [
    "#return true if an input review is positive\n",
    "def positive_or_not(s):\n",
    "    pos_logprob_total = prior_probabiolity_pos_train\n",
    "    neg_logprob_total = prior_probabiolity_neg_train\n",
    "    \n",
    "    for word in s:\n",
    "        pos_logprob_total += pos_logprobs.get(word, pos_oov_word_logprob)\n",
    "        neg_logprob_total += neg_logprobs.get(word, neg_oov_word_logprob)\n",
    "        \n",
    "    if pos_logprob_total == neg_logprob_total:\n",
    "        return np.random.choice([True, False])\n",
    "                           \n",
    "    return pos_logprob_total > neg_logprob_total\n"
   ]
  },
  {
   "cell_type": "code",
   "execution_count": 43,
   "id": "1f41291e-7a15-4e3f-9915-29c53c9989dd",
   "metadata": {},
   "outputs": [
    {
     "data": {
      "text/plain": [
       "True"
      ]
     },
     "execution_count": 43,
     "metadata": {},
     "output_type": "execute_result"
    }
   ],
   "source": [
    "review_test = \"the movie is nice\".split()\n",
    "positive_or_not(review_test) #This is supposed to be positive"
   ]
  },
  {
   "cell_type": "code",
   "execution_count": 44,
   "id": "25a161a6-aa58-4395-a336-5da34ae08c07",
   "metadata": {},
   "outputs": [
    {
     "data": {
      "text/plain": [
       "False"
      ]
     },
     "execution_count": 44,
     "metadata": {},
     "output_type": "execute_result"
    }
   ],
   "source": [
    "review_test = \"the movie is bad\".split()\n",
    "positive_or_not(review_test) #This is supposed to be negative"
   ]
  },
  {
   "cell_type": "code",
   "execution_count": 45,
   "id": "414f5ada-4b27-431a-9cea-0467c59d334f",
   "metadata": {},
   "outputs": [
    {
     "data": {
      "text/plain": [
       "False"
      ]
     },
     "execution_count": 45,
     "metadata": {},
     "output_type": "execute_result"
    }
   ],
   "source": [
    "review_test = \"such an awful movie\".split()\n",
    "positive_or_not(review_test) #This is supposed to be negative"
   ]
  },
  {
   "cell_type": "code",
   "execution_count": 46,
   "id": "3a8d9514-60e9-4a00-bb58-8c8613e1514e",
   "metadata": {},
   "outputs": [
    {
     "data": {
      "text/plain": [
       "True"
      ]
     },
     "execution_count": 46,
     "metadata": {},
     "output_type": "execute_result"
    }
   ],
   "source": [
    "review_test = \"lovely experience\".split()\n",
    "positive_or_not(review_test) #This is supposed to be positive"
   ]
  }
 ],
 "metadata": {
  "kernelspec": {
   "display_name": "base",
   "language": "python",
   "name": "python3"
  },
  "language_info": {
   "codemirror_mode": {
    "name": "ipython",
    "version": 3
   },
   "file_extension": ".py",
   "mimetype": "text/x-python",
   "name": "python",
   "nbconvert_exporter": "python",
   "pygments_lexer": "ipython3",
   "version": "3.12.5"
  }
 },
 "nbformat": 4,
 "nbformat_minor": 5
}
